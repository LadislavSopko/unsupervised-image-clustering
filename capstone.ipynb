{
 "cells": [
  {
   "cell_type": "markdown",
   "metadata": {
    "id": "sEClVl4r0hty"
   },
   "source": [
    "# Unsupervised Clustering of Pet Photos\n",
    "\n",
    "### What am i doing in this notebook?\n",
    "\n",
    "In this notebook, I will explore how I can give the computer a group of pet images, and it can cluster the ones with the same animals together.\n",
    "\n",
    "I will be doing that by encoding the images through a trained convolutional network, and then apply a clustering algorithm to the encoded features. We can then check the clusters and see if it worked!"
   ]
  },
  {
   "cell_type": "code",
   "execution_count": 4,
   "metadata": {
    "colab": {
     "base_uri": "https://localhost:8080/"
    },
    "executionInfo": {
     "elapsed": 560,
     "status": "ok",
     "timestamp": 1609078225527,
     "user": {
      "displayName": "Ladislav Sopko",
      "photoUrl": "https://lh3.googleusercontent.com/a-/AOh14GhZP1sNmSDkF7pNkg4wZT9qSXV6rJR6sxtuKOlqAg=s64",
      "userId": "14747611513749191345"
     },
     "user_tz": -60
    },
    "id": "GrRR1FjP0n95",
    "outputId": "8a91fa85-5080-42ee-fd96-1dec93e47ba0"
   },
   "outputs": [
    {
     "name": "stdout",
     "output_type": "stream",
     "text": [
      "Drive already mounted at /content/drive; to attempt to forcibly remount, call drive.mount(\"/content/drive\", force_remount=True).\n"
     ]
    }
   ],
   "source": [
    "from google.colab import drive\n",
    "drive.mount('/content/drive')"
   ]
  },
  {
   "cell_type": "markdown",
   "metadata": {
    "id": "J-npABJF0ht_"
   },
   "source": [
    "### Let's import the libraries we'll need\n",
    "\n",
    "Keras is using a TensorFlow backend in our case here."
   ]
  },
  {
   "cell_type": "code",
   "execution_count": 1,
   "metadata": {
    "executionInfo": {
     "elapsed": 1669,
     "status": "ok",
     "timestamp": 1609078258377,
     "user": {
      "displayName": "Ladislav Sopko",
      "photoUrl": "https://lh3.googleusercontent.com/a-/AOh14GhZP1sNmSDkF7pNkg4wZT9qSXV6rJR6sxtuKOlqAg=s64",
      "userId": "14747611513749191345"
     },
     "user_tz": -60
    },
    "id": "js-Ie_eN0huA"
   },
   "outputs": [
    {
     "name": "stdout",
     "output_type": "stream",
     "text": [
      "1 Physical GPUs, 1 Logical GPUs\n",
      "Device mapping:\n",
      "/job:localhost/replica:0/task:0/device:GPU:0 -> device: 0, name: GeForce RTX 2060, pci bus id: 0000:0e:00.0, compute capability: 7.5\n",
      "\n"
     ]
    }
   ],
   "source": [
    "%matplotlib inline\n",
    "\n",
    "import time\n",
    "import os, os.path\n",
    "import random\n",
    "import cv2\n",
    "import glob\n",
    "import keras\n",
    "import matplotlib\n",
    "import matplotlib.pyplot as plt\n",
    "from sklearn.model_selection import train_test_split\n",
    "from sklearn.cluster import KMeans\n",
    "from sklearn.mixture import GaussianMixture\n",
    "from sklearn.decomposition import PCA\n",
    "\n",
    "import pandas as pd\n",
    "import numpy as np\n",
    "import zipfile\n",
    "\n",
    "import tensorflow as tf\n",
    "from tensorflow.keras.preprocessing.image import ImageDataGenerator\n",
    "\n",
    "gpus = tf.config.experimental.list_physical_devices('GPU')\n",
    "if gpus:\n",
    "  try:\n",
    "    # Currently, memory growth needs to be the same across GPUs\n",
    "    for gpu in gpus:\n",
    "      tf.config.experimental.set_memory_growth(gpu, True)\n",
    "    logical_gpus = tf.config.experimental.list_logical_devices('GPU')\n",
    "    print(len(gpus), \"Physical GPUs,\", len(logical_gpus), \"Logical GPUs\")\n",
    "  except RuntimeError as e:\n",
    "    # Memory growth must be set before GPUs have been initialized\n",
    "    print(e)\n",
    "\n",
    "from tensorflow.compat.v1.keras.backend import set_session\n",
    "config = tf.compat.v1.ConfigProto()\n",
    "config.gpu_options.allow_growth = True  # dynamically grow the memory used on the GPU\n",
    "config.log_device_placement = True  # to log device placement (on which device the operation ran)\n",
    "                                    # (nothing gets printed in Jupyter, only if you run it standalone)\n",
    "sess = tf.compat.v1.Session(config=config)\n",
    "set_session(sess)  # set this TensorFlow session as the default session for Keras\n",
    "\n",
    "\n",
    "#DIR = \"c:\\\\tmp\\\\cnn\\\\data\"\n",
    "DIR = \"seeds\"\n",
    "\n",
    "#with zipfile.ZipFile(\"DbImages.zip\", 'r') as zip_ref:\n",
    "#    zip_ref.extractall(\"DIR\")\n"
   ]
  },
  {
   "cell_type": "markdown",
   "metadata": {
    "id": "xA97t24o0huB"
   },
   "source": [
    "## Dataset information\n",
    "\n",
    "Pet images are in directories with the following format:\n",
    "\n",
    "Character + Number + '-' + breed name.\n",
    "\n",
    "Character is either C or D for cat or dog. Number is a serial number for the breed. No two breeds of the same animal have the same number.\n",
    "\n",
    "Examples: \n",
    "\n",
    "C1-Abyssinian\n",
    "D6-Chiuahua\n",
    "\n",
    "We will use this information to list the breeds available and count the number of images available for each."
   ]
  },
  {
   "cell_type": "code",
   "execution_count": 2,
   "metadata": {
    "executionInfo": {
     "elapsed": 533,
     "status": "ok",
     "timestamp": 1609078271134,
     "user": {
      "displayName": "Ladislav Sopko",
      "photoUrl": "https://lh3.googleusercontent.com/a-/AOh14GhZP1sNmSDkF7pNkg4wZT9qSXV6rJR6sxtuKOlqAg=s64",
      "userId": "14747611513749191345"
     },
     "user_tz": -60
    },
    "id": "oHSC2udH0huB"
   },
   "outputs": [],
   "source": [
    "# directory where images are stored\n",
    "def dataset_stats():\n",
    "    \n",
    "    # This is an array with the letters available.\n",
    "    # If you add another animal later, you will need to structure its images in the same way\n",
    "    # and add its letter to this array\n",
    "    animal_characters = ['N', 'R']\n",
    "    \n",
    "    # dictionary where we will store the stats\n",
    "    stats = []\n",
    "    \n",
    "    for animal in animal_characters:\n",
    "        # get a list of subdirectories that start with this character\n",
    "        directory_list = sorted(glob.glob(\"{}/[{}]*\".format(DIR, animal)))\n",
    "        \n",
    "        for sub_directory in directory_list:\n",
    "            file_names = [file for file in os.listdir(sub_directory)]\n",
    "            file_count = len(file_names)\n",
    "            sub_directory_name = os.path.basename(sub_directory)\n",
    "            stats.append({ \"Code\": sub_directory_name[:sub_directory_name.find('-')],\n",
    "                            \"Image count\": file_count, \n",
    "                           \"Folder name\": os.path.basename(sub_directory),\n",
    "                            \"File names\": file_names})\n",
    "    \n",
    "    \n",
    "    df = pd.DataFrame(stats)\n",
    "    \n",
    "    return df"
   ]
  },
  {
   "cell_type": "code",
   "execution_count": 3,
   "metadata": {
    "colab": {
     "base_uri": "https://localhost:8080/",
     "height": 263
    },
    "executionInfo": {
     "elapsed": 540,
     "status": "ok",
     "timestamp": 1609078274604,
     "user": {
      "displayName": "Ladislav Sopko",
      "photoUrl": "https://lh3.googleusercontent.com/a-/AOh14GhZP1sNmSDkF7pNkg4wZT9qSXV6rJR6sxtuKOlqAg=s64",
      "userId": "14747611513749191345"
     },
     "user_tz": -60
    },
    "id": "p8hsVVtZ0huC",
    "outputId": "1e5e5b76-7f5a-4483-f382-2970c5e80e3c"
   },
   "outputs": [
    {
     "data": {
      "text/html": [
       "<div>\n",
       "<style scoped>\n",
       "    .dataframe tbody tr th:only-of-type {\n",
       "        vertical-align: middle;\n",
       "    }\n",
       "\n",
       "    .dataframe tbody tr th {\n",
       "        vertical-align: top;\n",
       "    }\n",
       "\n",
       "    .dataframe thead th {\n",
       "        text-align: right;\n",
       "    }\n",
       "</style>\n",
       "<table border=\"1\" class=\"dataframe\">\n",
       "  <thead>\n",
       "    <tr style=\"text-align: right;\">\n",
       "      <th></th>\n",
       "      <th>Folder name</th>\n",
       "      <th>Image count</th>\n",
       "    </tr>\n",
       "    <tr>\n",
       "      <th>Code</th>\n",
       "      <th></th>\n",
       "      <th></th>\n",
       "    </tr>\n",
       "  </thead>\n",
       "  <tbody>\n",
       "    <tr>\n",
       "      <th>N1</th>\n",
       "      <td>N1-Nocciole_Intere</td>\n",
       "      <td>71</td>\n",
       "    </tr>\n",
       "    <tr>\n",
       "      <th>N2</th>\n",
       "      <td>N2-Nocciole_Gusci</td>\n",
       "      <td>47</td>\n",
       "    </tr>\n",
       "    <tr>\n",
       "      <th>N3</th>\n",
       "      <td>N3-Nocciole_Marce</td>\n",
       "      <td>18</td>\n",
       "    </tr>\n",
       "    <tr>\n",
       "      <th>R10</th>\n",
       "      <td>R10-Riso_Bono</td>\n",
       "      <td>137</td>\n",
       "    </tr>\n",
       "    <tr>\n",
       "      <th>R11</th>\n",
       "      <td>R11-Riso_Bono</td>\n",
       "      <td>138</td>\n",
       "    </tr>\n",
       "    <tr>\n",
       "      <th>R20</th>\n",
       "      <td>R20-Riso_Rotto</td>\n",
       "      <td>170</td>\n",
       "    </tr>\n",
       "    <tr>\n",
       "      <th>R21</th>\n",
       "      <td>R21-Riso_Rotto</td>\n",
       "      <td>150</td>\n",
       "    </tr>\n",
       "    <tr>\n",
       "      <th>R22</th>\n",
       "      <td>R22-Riso_unito</td>\n",
       "      <td>1052</td>\n",
       "    </tr>\n",
       "    <tr>\n",
       "      <th>R30</th>\n",
       "      <td>R30-Riso_Unito</td>\n",
       "      <td>136</td>\n",
       "    </tr>\n",
       "    <tr>\n",
       "      <th>R31</th>\n",
       "      <td>R31-Riso_Unito</td>\n",
       "      <td>177</td>\n",
       "    </tr>\n",
       "  </tbody>\n",
       "</table>\n",
       "</div>"
      ],
      "text/plain": [
       "             Folder name  Image count\n",
       "Code                                 \n",
       "N1    N1-Nocciole_Intere           71\n",
       "N2     N2-Nocciole_Gusci           47\n",
       "N3     N3-Nocciole_Marce           18\n",
       "R10        R10-Riso_Bono          137\n",
       "R11        R11-Riso_Bono          138\n",
       "R20       R20-Riso_Rotto          170\n",
       "R21       R21-Riso_Rotto          150\n",
       "R22       R22-Riso_unito         1052\n",
       "R30       R30-Riso_Unito          136\n",
       "R31       R31-Riso_Unito          177"
      ]
     },
     "execution_count": 3,
     "metadata": {},
     "output_type": "execute_result"
    }
   ],
   "source": [
    "# Show codes with their folder names and image counts\n",
    "dataset = dataset_stats().set_index(\"Code\")\n",
    "dataset[[\"Folder name\", \"Image count\"]]"
   ]
  },
  {
   "cell_type": "markdown",
   "metadata": {
    "id": "5RRXLxJ_0huE"
   },
   "source": [
    "### Loading the images\n",
    "\n",
    "Now we create a function that loads all images in a directory for a given array of codes in one array and creates the corresponding label array for them.\n",
    "\n",
    "Loaded images are resized to 224 x 224 before storing them in our array since this is the size preferred by VGG19 which we will be using later."
   ]
  },
  {
   "cell_type": "code",
   "execution_count": 4,
   "metadata": {
    "executionInfo": {
     "elapsed": 610,
     "status": "ok",
     "timestamp": 1609080833107,
     "user": {
      "displayName": "Ladislav Sopko",
      "photoUrl": "https://lh3.googleusercontent.com/a-/AOh14GhZP1sNmSDkF7pNkg4wZT9qSXV6rJR6sxtuKOlqAg=s64",
      "userId": "14747611513749191345"
     },
     "user_tz": -60
    },
    "id": "85j1HmAS0huF"
   },
   "outputs": [],
   "source": [
    "# Function returns an array of images whoose filenames start with a given set of characters\n",
    "# after resizing them to 224 x 224\n",
    "\n",
    "def load_images(codes, clumpW = 100, clumpH = 100):\n",
    "    \n",
    "    # Define empty arrays where we will store our images and labels\n",
    "    images = []\n",
    "    images1 = []\n",
    "    labels = []\n",
    "    sizes = []\n",
    "    wMax = 0\n",
    "    hMax = 0\n",
    "    \n",
    "    for code in codes:\n",
    "        # get the folder name for this code\n",
    "        folder_name = dataset.loc[code][\"Folder name\"]\n",
    "        \n",
    "        for file in dataset.loc[code][\"File names\"]:                 \n",
    "            # build file path\n",
    "            file_path = os.path.join(DIR, folder_name, file)\n",
    "            \n",
    "            # Read the image\n",
    "            image = cv2.imread(file_path)\n",
    "            w, h, d = image.shape\n",
    "            \n",
    "            # discard bigger in any dim of 150\n",
    "            if w < clumpW and h < clumpH:\n",
    "\n",
    "                wMax = max(wMax, w)\n",
    "                hMax = max(hMax, h)    \n",
    "            \n",
    "                # Resize it to 224 x 224\n",
    "                # image = cv2.resize(image, (224,224))\n",
    "\n",
    "                # Convert it from BGR to RGB so we can plot them later (because openCV reads images as BGR)\n",
    "                image = cv2.cvtColor(image, cv2.COLOR_BGR2RGB)\n",
    "\n",
    "                # Now we add it to our array\n",
    "                images.append(image)\n",
    "                labels.append(code)\n",
    "\n",
    "    print( f'{wMax} x {hMax}')\n",
    "\n",
    "    k = 224 / max(wMax, hMax)\n",
    "\n",
    "    #resize images\n",
    "    for img in images:\n",
    "        w, h, d = img.shape\n",
    "\n",
    "        # resize by k\n",
    "        image = cv2.resize(img, (round(k * w), round(k * h)))\n",
    "        w, h, d = image.shape\n",
    "\n",
    "        xoff = round((224 - w) / 2)\n",
    "        yoff = round((224 - h) / 2)\n",
    "\n",
    "        # make empty image\n",
    "        blank_image = np.zeros((224, 224, 3), np.uint8)\n",
    "        blank_image[xoff:xoff+w, yoff:yoff+h] = image\n",
    "        images1.append(blank_image)\n",
    "\n",
    "    return images1, labels"
   ]
  },
  {
   "cell_type": "markdown",
   "metadata": {
    "id": "YyN1Z_il0huF"
   },
   "source": [
    "#### Now we chose our codes for the breeds that we want and load the images and labels\n",
    "\n",
    "I will chose two cat breeds and two dog breeds. While working on the whole dataset would yield more interesting results, it requires more memory than my computer has."
   ]
  },
  {
   "cell_type": "code",
   "execution_count": 5,
   "metadata": {
    "colab": {
     "base_uri": "https://localhost:8080/"
    },
    "executionInfo": {
     "elapsed": 854,
     "status": "ok",
     "timestamp": 1609080836427,
     "user": {
      "displayName": "Ladislav Sopko",
      "photoUrl": "https://lh3.googleusercontent.com/a-/AOh14GhZP1sNmSDkF7pNkg4wZT9qSXV6rJR6sxtuKOlqAg=s64",
      "userId": "14747611513749191345"
     },
     "user_tz": -60
    },
    "id": "LAgj0r1-0huG",
    "outputId": "fac4d5e8-f5e4-4778-940d-ab559e29b1c3"
   },
   "outputs": [
    {
     "name": "stdout",
     "output_type": "stream",
     "text": [
      "114 x 132\n"
     ]
    }
   ],
   "source": [
    "codes = [\"N1\", \"R10\"]\n",
    "images, labels = load_images(codes, 150, 150)"
   ]
  },
  {
   "cell_type": "markdown",
   "metadata": {
    "id": "auQOxjRJ0huG"
   },
   "source": [
    "### Photo time!\n",
    "\n",
    "Let's have a look at the breeds we loaded! The photos will not be in their original aspect ratio since we've resized them to fit what VGG needs"
   ]
  },
  {
   "cell_type": "code",
   "execution_count": 6,
   "metadata": {
    "executionInfo": {
     "elapsed": 578,
     "status": "ok",
     "timestamp": 1609080839254,
     "user": {
      "displayName": "Ladislav Sopko",
      "photoUrl": "https://lh3.googleusercontent.com/a-/AOh14GhZP1sNmSDkF7pNkg4wZT9qSXV6rJR6sxtuKOlqAg=s64",
      "userId": "14747611513749191345"
     },
     "user_tz": -60
    },
    "id": "w5JB4ddL0huH"
   },
   "outputs": [],
   "source": [
    "def show_random_images(images, labels, number_of_images_to_show=5):\n",
    "\n",
    "    for code in list(set(labels)):\n",
    "\n",
    "        indicies = [i for i, label in enumerate(labels) if label == code]\n",
    "        random_indicies = [random.choice(indicies) for i in range(number_of_images_to_show)]\n",
    "        figure, axis = plt.subplots(1, number_of_images_to_show)\n",
    "\n",
    "        print(\"{} random images for code {}\".format(number_of_images_to_show, code))\n",
    "\n",
    "        for image in range(number_of_images_to_show):\n",
    "            axis[image].imshow(images[random_indicies[image]])\n",
    "        plt.show()"
   ]
  },
  {
   "cell_type": "code",
   "execution_count": 7,
   "metadata": {
    "colab": {
     "base_uri": "https://localhost:8080/",
     "height": 630
    },
    "executionInfo": {
     "elapsed": 1051,
     "status": "ok",
     "timestamp": 1609080842046,
     "user": {
      "displayName": "Ladislav Sopko",
      "photoUrl": "https://lh3.googleusercontent.com/a-/AOh14GhZP1sNmSDkF7pNkg4wZT9qSXV6rJR6sxtuKOlqAg=s64",
      "userId": "14747611513749191345"
     },
     "user_tz": -60
    },
    "id": "-DeBdOAm0huH",
    "outputId": "d0386cb1-51fa-4556-d408-f661ddfc2559"
   },
   "outputs": [
    {
     "name": "stdout",
     "output_type": "stream",
     "text": [
      "5 random images for code R10\n"
     ]
    },
    {
     "data": {
      "image/png": "[encoded data removed]",
      "text/plain": [
       "<Figure size 432x288 with 5 Axes>"
      ]
     },
     "metadata": {
      "needs_background": "light"
     },
     "output_type": "display_data"
    },
    {
     "name": "stdout",
     "output_type": "stream",
     "text": [
      "5 random images for code N1\n"
     ]
    },
    {
     "data": {
      "image/png": "[encoded data removed]",
      "text/plain": [
       "<Figure size 432x288 with 5 Axes>"
      ]
     },
     "metadata": {
      "needs_background": "light"
     },
     "output_type": "display_data"
    }
   ],
   "source": [
    "show_random_images(images, labels)"
   ]
  },
  {
   "cell_type": "markdown",
   "metadata": {
    "id": "xfHhPUVS0huI"
   },
   "source": [
    "### Normalise...\n",
    "\n",
    "We now convert the images and labels to NumPy arrays to make processing them easier. We then normaise the images before passing them on to VGG19"
   ]
  },
  {
   "cell_type": "code",
   "execution_count": 8,
   "metadata": {
    "executionInfo": {
     "elapsed": 701,
     "status": "ok",
     "timestamp": 1609080845985,
     "user": {
      "displayName": "Ladislav Sopko",
      "photoUrl": "https://lh3.googleusercontent.com/a-/AOh14GhZP1sNmSDkF7pNkg4wZT9qSXV6rJR6sxtuKOlqAg=s64",
      "userId": "14747611513749191345"
     },
     "user_tz": -60
    },
    "id": "PGzTQd3r0huI"
   },
   "outputs": [],
   "source": [
    "def normalise_images(images, labels):\n",
    "\n",
    "    # Convert to numpy arrays\n",
    "    images = np.array(images, dtype=np.float32)\n",
    "    labels = np.array(labels)\n",
    "\n",
    "    # Normalise the images\n",
    "    images /= 255\n",
    "    \n",
    "    return images, labels"
   ]
  },
  {
   "cell_type": "code",
   "execution_count": 9,
   "metadata": {
    "executionInfo": {
     "elapsed": 778,
     "status": "ok",
     "timestamp": 1609080849047,
     "user": {
      "displayName": "Ladislav Sopko",
      "photoUrl": "https://lh3.googleusercontent.com/a-/AOh14GhZP1sNmSDkF7pNkg4wZT9qSXV6rJR6sxtuKOlqAg=s64",
      "userId": "14747611513749191345"
     },
     "user_tz": -60
    },
    "id": "xpdQxeZI0huJ"
   },
   "outputs": [],
   "source": [
    "images, labels = normalise_images(images, labels)"
   ]
  },
  {
   "cell_type": "markdown",
   "metadata": {
    "id": "EVVeVaNP0huJ"
   },
   "source": [
    "### Time to mix it up!\n",
    "\n",
    "Now that we have all the photos and their labels in arrays. It's time to shuffle them around, and split them to three different sets... training, validation and testing.\n",
    "\n",
    "We'll be using the `train_test_split` function from sklearn which will also shuffle the data around for us, since it's currently in order."
   ]
  },
  {
   "cell_type": "code",
   "execution_count": 10,
   "metadata": {
    "executionInfo": {
     "elapsed": 539,
     "status": "ok",
     "timestamp": 1609080851748,
     "user": {
      "displayName": "Ladislav Sopko",
      "photoUrl": "https://lh3.googleusercontent.com/a-/AOh14GhZP1sNmSDkF7pNkg4wZT9qSXV6rJR6sxtuKOlqAg=s64",
      "userId": "14747611513749191345"
     },
     "user_tz": -60
    },
    "id": "vwbFQD780huJ"
   },
   "outputs": [],
   "source": [
    "def shuffle_data(images, labels):\n",
    "\n",
    "    # Set aside the testing data. We won't touch these until the very end.\n",
    "    X_train, X_test, y_train, y_test = train_test_split(images, labels, test_size=1, random_state=728)\n",
    "    \n",
    "    return X_train, y_train"
   ]
  },
  {
   "cell_type": "code",
   "execution_count": 11,
   "metadata": {
    "executionInfo": {
     "elapsed": 734,
     "status": "ok",
     "timestamp": 1609080855250,
     "user": {
      "displayName": "Ladislav Sopko",
      "photoUrl": "https://lh3.googleusercontent.com/a-/AOh14GhZP1sNmSDkF7pNkg4wZT9qSXV6rJR6sxtuKOlqAg=s64",
      "userId": "14747611513749191345"
     },
     "user_tz": -60
    },
    "id": "qJhzta330huK"
   },
   "outputs": [],
   "source": [
    "X_train, y_train = shuffle_data(images, labels)"
   ]
  },
  {
   "cell_type": "markdown",
   "metadata": {
    "id": "l-n8PvIk0huL"
   },
   "source": [
    "### Load pre-trained covnet models\n",
    "#### VGG16, VG19, ResNet50\n",
    "\n",
    "We'll now load up the keras models with the imagenet weights. We'll remove the top dense layers, since we won't need to classify things here, and we just want these encoded features from the images."
   ]
  },
  {
   "cell_type": "code",
   "execution_count": 12,
   "metadata": {
    "executionInfo": {
     "elapsed": 2746,
     "status": "ok",
     "timestamp": 1609080860037,
     "user": {
      "displayName": "Ladislav Sopko",
      "photoUrl": "https://lh3.googleusercontent.com/a-/AOh14GhZP1sNmSDkF7pNkg4wZT9qSXV6rJR6sxtuKOlqAg=s64",
      "userId": "14747611513749191345"
     },
     "user_tz": -60
    },
    "id": "BRWLcpL70huL"
   },
   "outputs": [],
   "source": [
    "# Load the models with ImageNet weights\n",
    "\n",
    "vgg16_model = keras.applications.vgg16.VGG16(include_top=False, weights=\"imagenet\", input_shape=(224,224,3))\n",
    "\n",
    "vgg19_model = keras.applications.vgg19.VGG19(include_top=False, weights=\"imagenet\", input_shape=(224,224,3))\n",
    "\n",
    "resnet50_model = keras.applications.resnet50.ResNet50(include_top=False, weights=\"imagenet\", input_shape=(224,224,3))\n",
    "\n",
    "\n"
   ]
  },
  {
   "cell_type": "markdown",
   "metadata": {
    "id": "kXPD5ne70huM"
   },
   "source": [
    "### Output... falls flat\n",
    "\n",
    "The covnet models will give us 3D vectors that represent the image. We need to flatten these for the clustering algorithms to start working with them."
   ]
  },
  {
   "cell_type": "code",
   "execution_count": 13,
   "metadata": {
    "executionInfo": {
     "elapsed": 548,
     "status": "ok",
     "timestamp": 1609080863532,
     "user": {
      "displayName": "Ladislav Sopko",
      "photoUrl": "https://lh3.googleusercontent.com/a-/AOh14GhZP1sNmSDkF7pNkg4wZT9qSXV6rJR6sxtuKOlqAg=s64",
      "userId": "14747611513749191345"
     },
     "user_tz": -60
    },
    "id": "F64DVXBq0huN"
   },
   "outputs": [],
   "source": [
    "def covnet_transform(covnet_model, raw_images):\n",
    "\n",
    "    # Pass our training data through the network\n",
    "    pred = covnet_model.predict(raw_images)\n",
    "\n",
    "    # Flatten the array\n",
    "    flat = pred.reshape(raw_images.shape[0], -1)\n",
    "    \n",
    "    return flat\n"
   ]
  },
  {
   "cell_type": "code",
   "execution_count": 14,
   "metadata": {
    "colab": {
     "base_uri": "https://localhost:8080/"
    },
    "executionInfo": {
     "elapsed": 35916,
     "status": "ok",
     "timestamp": 1609080901866,
     "user": {
      "displayName": "Ladislav Sopko",
      "photoUrl": "https://lh3.googleusercontent.com/a-/AOh14GhZP1sNmSDkF7pNkg4wZT9qSXV6rJR6sxtuKOlqAg=s64",
      "userId": "14747611513749191345"
     },
     "user_tz": -60
    },
    "id": "VySbpY0U0huN",
    "outputId": "85890122-3594-470e-ab87-e8d27f069945"
   },
   "outputs": [
    {
     "name": "stdout",
     "output_type": "stream",
     "text": [
      "VGG16 flattened output has 25088 features\n",
      "VGG19 flattened output has 25088 features\n",
      "ResNet50 flattened output has 100352 features\n"
     ]
    }
   ],
   "source": [
    "vgg16_output = covnet_transform(vgg16_model, X_train)\n",
    "print(\"VGG16 flattened output has {} features\".format(vgg16_output.shape[1]))\n",
    "\n",
    "vgg19_output = covnet_transform(vgg19_model, X_train)\n",
    "print(\"VGG19 flattened output has {} features\".format(vgg19_output.shape[1]))\n",
    "\n",
    "resnet50_output = covnet_transform(resnet50_model, X_train)\n",
    "print(\"ResNet50 flattened output has {} features\".format(resnet50_output.shape[1]))"
   ]
  },
  {
   "cell_type": "markdown",
   "metadata": {
    "id": "s58FPJ920huO"
   },
   "source": [
    "The above cell shows us the number of features each covnet gives to a single image. When we compare these to the original size of the image 224 x 224 x 3 = 150,528 pixels/features, we can see that this is a large reduction in what the clustering algorithms will have to work with.\n",
    "\n",
    " \n",
    "\n",
    "Hopefully these reduces number of feature are represent more meaningful features in the image structure."
   ]
  },
  {
   "cell_type": "markdown",
   "metadata": {
    "id": "-IpFw15X0huP"
   },
   "source": [
    "### PCA\n",
    "\n",
    "While k-means clustering has coped with these numbers, Gaussian Mixture Modelling has not and the computer consistently ran out of memory and struggled to produce results. \n",
    "\n",
    "We therefore look to PCA for dimensionality reduction, so that our clustering algorithms can cope."
   ]
  },
  {
   "cell_type": "code",
   "execution_count": 15,
   "metadata": {
    "executionInfo": {
     "elapsed": 655,
     "status": "ok",
     "timestamp": 1609080924165,
     "user": {
      "displayName": "Ladislav Sopko",
      "photoUrl": "https://lh3.googleusercontent.com/a-/AOh14GhZP1sNmSDkF7pNkg4wZT9qSXV6rJR6sxtuKOlqAg=s64",
      "userId": "14747611513749191345"
     },
     "user_tz": -60
    },
    "id": "HT6Xdx0T0huP"
   },
   "outputs": [],
   "source": [
    "# Function that creates a PCA instance, fits it to the data and returns the instance\n",
    "def create_fit_PCA(data, n_components=None):\n",
    "    \n",
    "    p = PCA(n_components=n_components, random_state=728)\n",
    "    p.fit(data)\n",
    "    \n",
    "    return p\n",
    "    "
   ]
  },
  {
   "cell_type": "code",
   "execution_count": 16,
   "metadata": {
    "executionInfo": {
     "elapsed": 143277,
     "status": "ok",
     "timestamp": 1609081069879,
     "user": {
      "displayName": "Ladislav Sopko",
      "photoUrl": "https://lh3.googleusercontent.com/a-/AOh14GhZP1sNmSDkF7pNkg4wZT9qSXV6rJR6sxtuKOlqAg=s64",
      "userId": "14747611513749191345"
     },
     "user_tz": -60
    },
    "id": "DLNvDb1Z0huP"
   },
   "outputs": [],
   "source": [
    "# Create PCA instances for each covnet output\n",
    "vgg16_pca = create_fit_PCA(vgg16_output)\n",
    "vgg19_pca = create_fit_PCA(vgg19_output)\n",
    "resnet50_pca = create_fit_PCA(resnet50_output)\n"
   ]
  },
  {
   "cell_type": "code",
   "execution_count": 17,
   "metadata": {
    "executionInfo": {
     "elapsed": 582,
     "status": "ok",
     "timestamp": 1609081081898,
     "user": {
      "displayName": "Ladislav Sopko",
      "photoUrl": "https://lh3.googleusercontent.com/a-/AOh14GhZP1sNmSDkF7pNkg4wZT9qSXV6rJR6sxtuKOlqAg=s64",
      "userId": "14747611513749191345"
     },
     "user_tz": -60
    },
    "id": "jFoH3gm10huP"
   },
   "outputs": [],
   "source": [
    "# Function to plot the cumulative explained variance of PCA components\n",
    "# This will help us decide how many components we should reduce our features to\n",
    "def pca_cumsum_plot(pca):\n",
    "    plt.plot(np.cumsum(pca.explained_variance_ratio_))\n",
    "    plt.xlabel('number of components')\n",
    "    plt.ylabel('cumulative explained variance')\n",
    "    plt.show()"
   ]
  },
  {
   "cell_type": "code",
   "execution_count": 18,
   "metadata": {
    "colab": {
     "base_uri": "https://localhost:8080/",
     "height": 803
    },
    "executionInfo": {
     "elapsed": 893,
     "status": "ok",
     "timestamp": 1609081085223,
     "user": {
      "displayName": "Ladislav Sopko",
      "photoUrl": "https://lh3.googleusercontent.com/a-/AOh14GhZP1sNmSDkF7pNkg4wZT9qSXV6rJR6sxtuKOlqAg=s64",
      "userId": "14747611513749191345"
     },
     "user_tz": -60
    },
    "id": "yJo90BVl0huQ",
    "outputId": "a2ad1fc2-64bb-42f3-cda9-1db577f1e719"
   },
   "outputs": [
    {
     "data": {
      "image/png": "[encoded data removed]",
      "text/plain": [
       "<Figure size 432x288 with 1 Axes>"
      ]
     },
     "metadata": {
      "needs_background": "light"
     },
     "output_type": "display_data"
    },
    {
     "data": {
      "image/png": "[encoded data removed]",
      "text/plain": [
       "<Figure size 432x288 with 1 Axes>"
      ]
     },
     "metadata": {
      "needs_background": "light"
     },
     "output_type": "display_data"
    },
    {
     "data": {
      "image/png": "[encoded data removed]",
      "text/plain": [
       "<Figure size 432x288 with 1 Axes>"
      ]
     },
     "metadata": {
      "needs_background": "light"
     },
     "output_type": "display_data"
    }
   ],
   "source": [
    "# Plot the cumulative explained variance for each covnet\n",
    "pca_cumsum_plot(vgg16_pca)\n",
    "pca_cumsum_plot(vgg19_pca)\n",
    "pca_cumsum_plot(resnet50_pca)"
   ]
  },
  {
   "cell_type": "markdown",
   "metadata": {
    "id": "goR7Yq3Y0huR"
   },
   "source": [
    "Looking at the gaphs above, we can see that PCA can explain almost all the variance in as many dimensions as there are samples.\n",
    "\n",
    "It is also interesting to note the difference in shape between the VGG graphs and the ResNet one. This is probably due to the fact that ResNet only had 2048 dimensions to start with, while VGGs had 25,088"
   ]
  },
  {
   "cell_type": "code",
   "execution_count": 19,
   "metadata": {
    "executionInfo": {
     "elapsed": 15480,
     "status": "ok",
     "timestamp": 1609081109347,
     "user": {
      "displayName": "Ladislav Sopko",
      "photoUrl": "https://lh3.googleusercontent.com/a-/AOh14GhZP1sNmSDkF7pNkg4wZT9qSXV6rJR6sxtuKOlqAg=s64",
      "userId": "14747611513749191345"
     },
     "user_tz": -60
    },
    "id": "L-wKoCxV0huR"
   },
   "outputs": [],
   "source": [
    "# PCA transformations of covnet outputs\n",
    "vgg16_output_pca = vgg16_pca.transform(vgg16_output)\n",
    "vgg19_output_pca = vgg19_pca.transform(vgg19_output)\n",
    "resnet50_output_pca = resnet50_pca.transform(resnet50_output)"
   ]
  },
  {
   "cell_type": "markdown",
   "metadata": {
    "id": "Aar4BWi20huR"
   },
   "source": [
    "### Cluster time\n",
    "\n",
    "Let's write a couple of functions that would create and fit KMeans and Gaussian Mixture models.\n",
    "While it can make sense to combine them in one function that returns both, I've seperated them so we can execute them seperately and make some observations without overloading the PC"
   ]
  },
  {
   "cell_type": "code",
   "execution_count": 20,
   "metadata": {
    "executionInfo": {
     "elapsed": 593,
     "status": "ok",
     "timestamp": 1609081114096,
     "user": {
      "displayName": "Ladislav Sopko",
      "photoUrl": "https://lh3.googleusercontent.com/a-/AOh14GhZP1sNmSDkF7pNkg4wZT9qSXV6rJR6sxtuKOlqAg=s64",
      "userId": "14747611513749191345"
     },
     "user_tz": -60
    },
    "id": "aJJsU6w10huS"
   },
   "outputs": [],
   "source": [
    "def create_train_kmeans(data, number_of_clusters=len(codes)):\n",
    "    # n_jobs is set to -1 to use all available CPU cores. This makes a big difference on an 8-core CPU\n",
    "    # especially when the data size gets much bigger. #perfMatters\n",
    "    \n",
    "    k = KMeans(n_clusters=number_of_clusters, n_jobs=-1, random_state=728)\n",
    "\n",
    "    # Let's do some timings to see how long it takes to train.\n",
    "    start = time.time()\n",
    "\n",
    "    # Train it up\n",
    "    k.fit(data)\n",
    "\n",
    "    # Stop the timing \n",
    "    end = time.time()\n",
    "\n",
    "    # And see how long that took\n",
    "    print(\"Training took {} seconds\".format(end-start))\n",
    "    \n",
    "    return k"
   ]
  },
  {
   "cell_type": "code",
   "execution_count": 21,
   "metadata": {
    "executionInfo": {
     "elapsed": 668,
     "status": "ok",
     "timestamp": 1609081117678,
     "user": {
      "displayName": "Ladislav Sopko",
      "photoUrl": "https://lh3.googleusercontent.com/a-/AOh14GhZP1sNmSDkF7pNkg4wZT9qSXV6rJR6sxtuKOlqAg=s64",
      "userId": "14747611513749191345"
     },
     "user_tz": -60
    },
    "id": "hCLzHti00huS"
   },
   "outputs": [],
   "source": [
    "def create_train_gmm(data, number_of_clusters=len(codes)):\n",
    "    g = GaussianMixture(n_components=number_of_clusters, covariance_type=\"full\", random_state=728)\n",
    "    \n",
    "    start=time.time()\n",
    "    g.fit(data)\n",
    "    end=time.time()\n",
    "    \n",
    "    print(\"Training took {} seconds\".format(end-start))\n",
    "    \n",
    "    return g\n",
    "    "
   ]
  },
  {
   "cell_type": "markdown",
   "metadata": {
    "id": "po7D7KIv0huS"
   },
   "source": [
    "### Ask the clustering algo what it thinks is what"
   ]
  },
  {
   "cell_type": "code",
   "execution_count": 22,
   "metadata": {
    "colab": {
     "base_uri": "https://localhost:8080/"
    },
    "executionInfo": {
     "elapsed": 4608,
     "status": "ok",
     "timestamp": 1609081126045,
     "user": {
      "displayName": "Ladislav Sopko",
      "photoUrl": "https://lh3.googleusercontent.com/a-/AOh14GhZP1sNmSDkF7pNkg4wZT9qSXV6rJR6sxtuKOlqAg=s64",
      "userId": "14747611513749191345"
     },
     "user_tz": -60
    },
    "id": "Iw0PSJ8z0huS",
    "outputId": "87c7d082-d81f-4feb-f6dd-edf68d78aa72"
   },
   "outputs": [
    {
     "name": "stdout",
     "output_type": "stream",
     "text": [
      "KMeans (PCA): \n",
      "\n",
      "VGG16\n",
      "Training took 0.0315244197845459 seconds\n",
      "\n",
      "VGG19\n",
      "Training took 0.02552056312561035 seconds\n",
      "\n",
      "ResNet50\n",
      "Training took 0.02602100372314453 seconds\n"
     ]
    },
    {
     "name": "stderr",
     "output_type": "stream",
     "text": [
      "C:\\Users\\Laco\\.conda\\envs\\tf-gpu\\lib\\site-packages\\sklearn\\cluster\\_kmeans.py:938: FutureWarning: 'n_jobs' was deprecated in version 0.23 and will be removed in 0.25.\n",
      "  warnings.warn(\"'n_jobs' was deprecated in version 0.23 and will be\"\n",
      "C:\\Users\\Laco\\.conda\\envs\\tf-gpu\\lib\\site-packages\\sklearn\\cluster\\_kmeans.py:938: FutureWarning: 'n_jobs' was deprecated in version 0.23 and will be removed in 0.25.\n",
      "  warnings.warn(\"'n_jobs' was deprecated in version 0.23 and will be\"\n",
      "C:\\Users\\Laco\\.conda\\envs\\tf-gpu\\lib\\site-packages\\sklearn\\cluster\\_kmeans.py:938: FutureWarning: 'n_jobs' was deprecated in version 0.23 and will be removed in 0.25.\n",
      "  warnings.warn(\"'n_jobs' was deprecated in version 0.23 and will be\"\n"
     ]
    }
   ],
   "source": [
    "# Let's pass the data into the algorithm and predict who lies in which cluster. \n",
    "# Since we're using the same data that we trained it on, this should give us the training results.\n",
    "\n",
    "# Here we create and fit a KMeans model with the PCA outputs\n",
    "print(\"KMeans (PCA): \\n\")\n",
    "\n",
    "print(\"VGG16\")\n",
    "K_vgg16_pca = create_train_kmeans(vgg16_output_pca)\n",
    "\n",
    "print(\"\\nVGG19\")\n",
    "K_vgg19_pca = create_train_kmeans(vgg19_output_pca)\n",
    "\n",
    "print(\"\\nResNet50\")\n",
    "K_resnet50_pca = create_train_kmeans(resnet50_output_pca)"
   ]
  },
  {
   "cell_type": "code",
   "execution_count": 23,
   "metadata": {
    "colab": {
     "base_uri": "https://localhost:8080/"
    },
    "executionInfo": {
     "elapsed": 37137,
     "status": "ok",
     "timestamp": 1609081167361,
     "user": {
      "displayName": "Ladislav Sopko",
      "photoUrl": "https://lh3.googleusercontent.com/a-/AOh14GhZP1sNmSDkF7pNkg4wZT9qSXV6rJR6sxtuKOlqAg=s64",
      "userId": "14747611513749191345"
     },
     "user_tz": -60
    },
    "id": "XwHOTCar0huT",
    "outputId": "77525479-bd07-42a1-a5aa-792437c2a049"
   },
   "outputs": [
    {
     "name": "stdout",
     "output_type": "stream",
     "text": [
      "GMM (PCA): \n",
      "\n",
      "VGG16\n",
      "Training took 0.0170133113861084 seconds\n",
      "\n",
      "VGG19\n",
      "Training took 0.015512466430664062 seconds\n",
      "\n",
      "ResNet50\n",
      "Training took 0.01401066780090332 seconds\n"
     ]
    }
   ],
   "source": [
    "# Same for Gaussian Model\n",
    "print(\"GMM (PCA): \\n\")\n",
    "\n",
    "print(\"VGG16\")\n",
    "G_vgg16_pca = create_train_gmm(vgg16_output_pca)\n",
    "\n",
    "print(\"\\nVGG19\")\n",
    "G_vgg19_pca = create_train_gmm(vgg19_output_pca)\n",
    "\n",
    "print(\"\\nResNet50\")\n",
    "G_resnet50_pca = create_train_gmm(resnet50_output_pca)\n"
   ]
  },
  {
   "cell_type": "code",
   "execution_count": 24,
   "metadata": {
    "colab": {
     "base_uri": "https://localhost:8080/"
    },
    "executionInfo": {
     "elapsed": 12379,
     "status": "ok",
     "timestamp": 1609081295764,
     "user": {
      "displayName": "Ladislav Sopko",
      "photoUrl": "https://lh3.googleusercontent.com/a-/AOh14GhZP1sNmSDkF7pNkg4wZT9qSXV6rJR6sxtuKOlqAg=s64",
      "userId": "14747611513749191345"
     },
     "user_tz": -60
    },
    "id": "bqccqfFs0huT",
    "outputId": "2bbe9a07-c449-4ff1-af50-07ea3389b374"
   },
   "outputs": [
    {
     "name": "stdout",
     "output_type": "stream",
     "text": [
      "KMeans: \n",
      "\n",
      "VGG16:\n"
     ]
    },
    {
     "name": "stderr",
     "output_type": "stream",
     "text": [
      "C:\\Users\\Laco\\.conda\\envs\\tf-gpu\\lib\\site-packages\\sklearn\\cluster\\_kmeans.py:938: FutureWarning: 'n_jobs' was deprecated in version 0.23 and will be removed in 0.25.\n",
      "  warnings.warn(\"'n_jobs' was deprecated in version 0.23 and will be\"\n"
     ]
    },
    {
     "name": "stdout",
     "output_type": "stream",
     "text": [
      "Training took 0.6840384006500244 seconds\n",
      "\n",
      "VGG19:\n"
     ]
    },
    {
     "name": "stderr",
     "output_type": "stream",
     "text": [
      "C:\\Users\\Laco\\.conda\\envs\\tf-gpu\\lib\\site-packages\\sklearn\\cluster\\_kmeans.py:938: FutureWarning: 'n_jobs' was deprecated in version 0.23 and will be removed in 0.25.\n",
      "  warnings.warn(\"'n_jobs' was deprecated in version 0.23 and will be\"\n"
     ]
    },
    {
     "name": "stdout",
     "output_type": "stream",
     "text": [
      "Training took 0.654015064239502 seconds\n",
      "\n",
      "ResNet50:\n"
     ]
    },
    {
     "name": "stderr",
     "output_type": "stream",
     "text": [
      "C:\\Users\\Laco\\.conda\\envs\\tf-gpu\\lib\\site-packages\\sklearn\\cluster\\_kmeans.py:938: FutureWarning: 'n_jobs' was deprecated in version 0.23 and will be removed in 0.25.\n",
      "  warnings.warn(\"'n_jobs' was deprecated in version 0.23 and will be\"\n"
     ]
    },
    {
     "name": "stdout",
     "output_type": "stream",
     "text": [
      "Training took 2.700627088546753 seconds\n"
     ]
    }
   ],
   "source": [
    "# Let's also create models for the covnet outputs without PCA for comparison\n",
    "print(\"KMeans: \\n\")\n",
    "\n",
    "print(\"VGG16:\")\n",
    "K_vgg16 = create_train_kmeans(vgg16_output)\n",
    "\n",
    "print(\"\\nVGG19:\")\n",
    "K_vgg19 = create_train_kmeans(vgg19_output)\n",
    "\n",
    "print(\"\\nResNet50:\")\n",
    "K_resnet50 = create_train_kmeans(resnet50_output)\n"
   ]
  },
  {
   "cell_type": "markdown",
   "metadata": {
    "id": "JhEgfDj70huU"
   },
   "source": [
    "#### Attempts to run the Gaussian Mixtue Model on the outputs without PCA always give an out of memory error. I am therefore unable to test these and conclude that they are impractical to use."
   ]
  },
  {
   "cell_type": "code",
   "execution_count": 25,
   "metadata": {
    "executionInfo": {
     "elapsed": 5257,
     "status": "ok",
     "timestamp": 1609081317771,
     "user": {
      "displayName": "Ladislav Sopko",
      "photoUrl": "https://lh3.googleusercontent.com/a-/AOh14GhZP1sNmSDkF7pNkg4wZT9qSXV6rJR6sxtuKOlqAg=s64",
      "userId": "14747611513749191345"
     },
     "user_tz": -60
    },
    "id": "hKnxDWkS0huU"
   },
   "outputs": [],
   "source": [
    "# Now we get the custer model predictions\n",
    "\n",
    "# KMeans with PCA outputs\n",
    "k_vgg16_pred_pca = K_vgg16_pca.predict(vgg16_output_pca)\n",
    "k_vgg19_pred_pca = K_vgg19_pca.predict(vgg19_output_pca)\n",
    "k_resnet50_pred_pca = K_resnet50_pca.predict(resnet50_output_pca)\n",
    "\n",
    "# KMeans with CovNet outputs\n",
    "k_vgg16_pred = K_vgg16.predict(vgg16_output)\n",
    "k_vgg19_pred = K_vgg19.predict(vgg19_output)\n",
    "k_resnet50_pred = K_resnet50.predict(resnet50_output)\n",
    "\n",
    "# Gaussian Mixture with PCA outputs\n",
    "g_resnet50_pred_pca = G_resnet50_pca.predict(resnet50_output_pca)\n",
    "g_vgg16_pred_pca = G_vgg16_pca.predict(vgg16_output_pca)\n",
    "g_vgg19_pred_pca = G_vgg19_pca.predict(vgg19_output_pca)"
   ]
  },
  {
   "cell_type": "markdown",
   "metadata": {
    "id": "v3IcuIft0huU"
   },
   "source": [
    "Remember that the clustering algorith does not detect which images are cats and which are dogs, it only groups images that look alike together and assigns them a number arbitrarily. \n",
    "\n",
    "We now need to count how many of each label are in  each cluster, this way we can take a look and if sufficient eperation has happened we can quicly see which cluster is which label. So let's write a function that does that."
   ]
  },
  {
   "cell_type": "code",
   "execution_count": 26,
   "metadata": {
    "executionInfo": {
     "elapsed": 571,
     "status": "ok",
     "timestamp": 1609081322313,
     "user": {
      "displayName": "Ladislav Sopko",
      "photoUrl": "https://lh3.googleusercontent.com/a-/AOh14GhZP1sNmSDkF7pNkg4wZT9qSXV6rJR6sxtuKOlqAg=s64",
      "userId": "14747611513749191345"
     },
     "user_tz": -60
    },
    "id": "4btdj1KH0huU"
   },
   "outputs": [],
   "source": [
    "def cluster_label_count(clusters, labels):\n",
    "    \n",
    "    count = {}\n",
    "    \n",
    "    # Get unique clusters and labels\n",
    "    unique_clusters = list(set(clusters))\n",
    "    unique_labels = list(set(labels))\n",
    "    \n",
    "    # Create counter for each cluster/label combination and set it to 0\n",
    "    for cluster in unique_clusters:\n",
    "        count[cluster] = {}\n",
    "        \n",
    "        for label in unique_labels:\n",
    "            count[cluster][label] = 0\n",
    "    \n",
    "    # Let's count\n",
    "    for i in range(len(clusters)):\n",
    "        count[clusters[i]][labels[i]] +=1\n",
    "    \n",
    "    cluster_df = pd.DataFrame(count)\n",
    "    \n",
    "    return cluster_df"
   ]
  },
  {
   "cell_type": "code",
   "execution_count": 27,
   "metadata": {
    "executionInfo": {
     "elapsed": 624,
     "status": "ok",
     "timestamp": 1609081344135,
     "user": {
      "displayName": "Ladislav Sopko",
      "photoUrl": "https://lh3.googleusercontent.com/a-/AOh14GhZP1sNmSDkF7pNkg4wZT9qSXV6rJR6sxtuKOlqAg=s64",
      "userId": "14747611513749191345"
     },
     "user_tz": -60
    },
    "id": "Sp5DJA0I0huV"
   },
   "outputs": [
    {
     "name": "stdout",
     "output_type": "stream",
     "text": [
      "[[[[0. 0. 0.]\n",
      "   [0. 0. 0.]\n",
      "   [0. 0. 0.]\n",
      "   ...\n",
      "   [0. 0. 0.]\n",
      "   [0. 0. 0.]\n",
      "   [0. 0. 0.]]\n",
      "\n",
      "  [[0. 0. 0.]\n",
      "   [0. 0. 0.]\n",
      "   [0. 0. 0.]\n",
      "   ...\n",
      "   [0. 0. 0.]\n",
      "   [0. 0. 0.]\n",
      "   [0. 0. 0.]]\n",
      "\n",
      "  [[0. 0. 0.]\n",
      "   [0. 0. 0.]\n",
      "   [0. 0. 0.]\n",
      "   ...\n",
      "   [0. 0. 0.]\n",
      "   [0. 0. 0.]\n",
      "   [0. 0. 0.]]\n",
      "\n",
      "  ...\n",
      "\n",
      "  [[0. 0. 0.]\n",
      "   [0. 0. 0.]\n",
      "   [0. 0. 0.]\n",
      "   ...\n",
      "   [0. 0. 0.]\n",
      "   [0. 0. 0.]\n",
      "   [0. 0. 0.]]\n",
      "\n",
      "  [[0. 0. 0.]\n",
      "   [0. 0. 0.]\n",
      "   [0. 0. 0.]\n",
      "   ...\n",
      "   [0. 0. 0.]\n",
      "   [0. 0. 0.]\n",
      "   [0. 0. 0.]]\n",
      "\n",
      "  [[0. 0. 0.]\n",
      "   [0. 0. 0.]\n",
      "   [0. 0. 0.]\n",
      "   ...\n",
      "   [0. 0. 0.]\n",
      "   [0. 0. 0.]\n",
      "   [0. 0. 0.]]]\n",
      "\n",
      "\n",
      " [[[0. 0. 0.]\n",
      "   [0. 0. 0.]\n",
      "   [0. 0. 0.]\n",
      "   ...\n",
      "   [0. 0. 0.]\n",
      "   [0. 0. 0.]\n",
      "   [0. 0. 0.]]\n",
      "\n",
      "  [[0. 0. 0.]\n",
      "   [0. 0. 0.]\n",
      "   [0. 0. 0.]\n",
      "   ...\n",
      "   [0. 0. 0.]\n",
      "   [0. 0. 0.]\n",
      "   [0. 0. 0.]]\n",
      "\n",
      "  [[0. 0. 0.]\n",
      "   [0. 0. 0.]\n",
      "   [0. 0. 0.]\n",
      "   ...\n",
      "   [0. 0. 0.]\n",
      "   [0. 0. 0.]\n",
      "   [0. 0. 0.]]\n",
      "\n",
      "  ...\n",
      "\n",
      "  [[0. 0. 0.]\n",
      "   [0. 0. 0.]\n",
      "   [0. 0. 0.]\n",
      "   ...\n",
      "   [0. 0. 0.]\n",
      "   [0. 0. 0.]\n",
      "   [0. 0. 0.]]\n",
      "\n",
      "  [[0. 0. 0.]\n",
      "   [0. 0. 0.]\n",
      "   [0. 0. 0.]\n",
      "   ...\n",
      "   [0. 0. 0.]\n",
      "   [0. 0. 0.]\n",
      "   [0. 0. 0.]]\n",
      "\n",
      "  [[0. 0. 0.]\n",
      "   [0. 0. 0.]\n",
      "   [0. 0. 0.]\n",
      "   ...\n",
      "   [0. 0. 0.]\n",
      "   [0. 0. 0.]\n",
      "   [0. 0. 0.]]]\n",
      "\n",
      "\n",
      " [[[0. 0. 0.]\n",
      "   [0. 0. 0.]\n",
      "   [0. 0. 0.]\n",
      "   ...\n",
      "   [0. 0. 0.]\n",
      "   [0. 0. 0.]\n",
      "   [0. 0. 0.]]\n",
      "\n",
      "  [[0. 0. 0.]\n",
      "   [0. 0. 0.]\n",
      "   [0. 0. 0.]\n",
      "   ...\n",
      "   [0. 0. 0.]\n",
      "   [0. 0. 0.]\n",
      "   [0. 0. 0.]]\n",
      "\n",
      "  [[0. 0. 0.]\n",
      "   [0. 0. 0.]\n",
      "   [0. 0. 0.]\n",
      "   ...\n",
      "   [0. 0. 0.]\n",
      "   [0. 0. 0.]\n",
      "   [0. 0. 0.]]\n",
      "\n",
      "  ...\n",
      "\n",
      "  [[0. 0. 0.]\n",
      "   [0. 0. 0.]\n",
      "   [0. 0. 0.]\n",
      "   ...\n",
      "   [0. 0. 0.]\n",
      "   [0. 0. 0.]\n",
      "   [0. 0. 0.]]\n",
      "\n",
      "  [[0. 0. 0.]\n",
      "   [0. 0. 0.]\n",
      "   [0. 0. 0.]\n",
      "   ...\n",
      "   [0. 0. 0.]\n",
      "   [0. 0. 0.]\n",
      "   [0. 0. 0.]]\n",
      "\n",
      "  [[0. 0. 0.]\n",
      "   [0. 0. 0.]\n",
      "   [0. 0. 0.]\n",
      "   ...\n",
      "   [0. 0. 0.]\n",
      "   [0. 0. 0.]\n",
      "   [0. 0. 0.]]]\n",
      "\n",
      "\n",
      " ...\n",
      "\n",
      "\n",
      " [[[0. 0. 0.]\n",
      "   [0. 0. 0.]\n",
      "   [0. 0. 0.]\n",
      "   ...\n",
      "   [0. 0. 0.]\n",
      "   [0. 0. 0.]\n",
      "   [0. 0. 0.]]\n",
      "\n",
      "  [[0. 0. 0.]\n",
      "   [0. 0. 0.]\n",
      "   [0. 0. 0.]\n",
      "   ...\n",
      "   [0. 0. 0.]\n",
      "   [0. 0. 0.]\n",
      "   [0. 0. 0.]]\n",
      "\n",
      "  [[0. 0. 0.]\n",
      "   [0. 0. 0.]\n",
      "   [0. 0. 0.]\n",
      "   ...\n",
      "   [0. 0. 0.]\n",
      "   [0. 0. 0.]\n",
      "   [0. 0. 0.]]\n",
      "\n",
      "  ...\n",
      "\n",
      "  [[0. 0. 0.]\n",
      "   [0. 0. 0.]\n",
      "   [0. 0. 0.]\n",
      "   ...\n",
      "   [0. 0. 0.]\n",
      "   [0. 0. 0.]\n",
      "   [0. 0. 0.]]\n",
      "\n",
      "  [[0. 0. 0.]\n",
      "   [0. 0. 0.]\n",
      "   [0. 0. 0.]\n",
      "   ...\n",
      "   [0. 0. 0.]\n",
      "   [0. 0. 0.]\n",
      "   [0. 0. 0.]]\n",
      "\n",
      "  [[0. 0. 0.]\n",
      "   [0. 0. 0.]\n",
      "   [0. 0. 0.]\n",
      "   ...\n",
      "   [0. 0. 0.]\n",
      "   [0. 0. 0.]\n",
      "   [0. 0. 0.]]]\n",
      "\n",
      "\n",
      " [[[0. 0. 0.]\n",
      "   [0. 0. 0.]\n",
      "   [0. 0. 0.]\n",
      "   ...\n",
      "   [0. 0. 0.]\n",
      "   [0. 0. 0.]\n",
      "   [0. 0. 0.]]\n",
      "\n",
      "  [[0. 0. 0.]\n",
      "   [0. 0. 0.]\n",
      "   [0. 0. 0.]\n",
      "   ...\n",
      "   [0. 0. 0.]\n",
      "   [0. 0. 0.]\n",
      "   [0. 0. 0.]]\n",
      "\n",
      "  [[0. 0. 0.]\n",
      "   [0. 0. 0.]\n",
      "   [0. 0. 0.]\n",
      "   ...\n",
      "   [0. 0. 0.]\n",
      "   [0. 0. 0.]\n",
      "   [0. 0. 0.]]\n",
      "\n",
      "  ...\n",
      "\n",
      "  [[0. 0. 0.]\n",
      "   [0. 0. 0.]\n",
      "   [0. 0. 0.]\n",
      "   ...\n",
      "   [0. 0. 0.]\n",
      "   [0. 0. 0.]\n",
      "   [0. 0. 0.]]\n",
      "\n",
      "  [[0. 0. 0.]\n",
      "   [0. 0. 0.]\n",
      "   [0. 0. 0.]\n",
      "   ...\n",
      "   [0. 0. 0.]\n",
      "   [0. 0. 0.]\n",
      "   [0. 0. 0.]]\n",
      "\n",
      "  [[0. 0. 0.]\n",
      "   [0. 0. 0.]\n",
      "   [0. 0. 0.]\n",
      "   ...\n",
      "   [0. 0. 0.]\n",
      "   [0. 0. 0.]\n",
      "   [0. 0. 0.]]]\n",
      "\n",
      "\n",
      " [[[0. 0. 0.]\n",
      "   [0. 0. 0.]\n",
      "   [0. 0. 0.]\n",
      "   ...\n",
      "   [0. 0. 0.]\n",
      "   [0. 0. 0.]\n",
      "   [0. 0. 0.]]\n",
      "\n",
      "  [[0. 0. 0.]\n",
      "   [0. 0. 0.]\n",
      "   [0. 0. 0.]\n",
      "   ...\n",
      "   [0. 0. 0.]\n",
      "   [0. 0. 0.]\n",
      "   [0. 0. 0.]]\n",
      "\n",
      "  [[0. 0. 0.]\n",
      "   [0. 0. 0.]\n",
      "   [0. 0. 0.]\n",
      "   ...\n",
      "   [0. 0. 0.]\n",
      "   [0. 0. 0.]\n",
      "   [0. 0. 0.]]\n",
      "\n",
      "  ...\n",
      "\n",
      "  [[0. 0. 0.]\n",
      "   [0. 0. 0.]\n",
      "   [0. 0. 0.]\n",
      "   ...\n",
      "   [0. 0. 0.]\n",
      "   [0. 0. 0.]\n",
      "   [0. 0. 0.]]\n",
      "\n",
      "  [[0. 0. 0.]\n",
      "   [0. 0. 0.]\n",
      "   [0. 0. 0.]\n",
      "   ...\n",
      "   [0. 0. 0.]\n",
      "   [0. 0. 0.]\n",
      "   [0. 0. 0.]]\n",
      "\n",
      "  [[0. 0. 0.]\n",
      "   [0. 0. 0.]\n",
      "   [0. 0. 0.]\n",
      "   ...\n",
      "   [0. 0. 0.]\n",
      "   [0. 0. 0.]\n",
      "   [0. 0. 0.]]]]\n",
      "[1 0 0 0 0 1 0 1 0 0]\n"
     ]
    }
   ],
   "source": [
    "# Cluster counting for VGG16 Means\n",
    "vgg16_cluster_count = cluster_label_count(k_vgg16_pred, y_train)\n",
    "vgg16_cluster_count_pca = cluster_label_count(k_vgg16_pred_pca, y_train)\n",
    "\n",
    "# VGG19 KMeans\n",
    "vgg19_cluster_count = cluster_label_count(k_vgg19_pred, y_train)\n",
    "vgg19_cluster_count_pca = cluster_label_count(k_vgg19_pred_pca, y_train)\n",
    "\n",
    "# ResNet50 KMeans\n",
    "resnet_cluster_count = cluster_label_count(k_resnet50_pred, y_train)\n",
    "resnet_cluster_count_pca = cluster_label_count(k_resnet50_pred_pca, y_train)\n",
    "\n",
    "# GMM\n",
    "g_vgg16_cluster_count_pca = cluster_label_count(g_vgg16_pred_pca, y_train)\n",
    "g_vgg19_cluster_count_pca = cluster_label_count(g_vgg19_pred_pca, y_train)\n",
    "g_resnet50_cluster_count_pca = cluster_label_count(g_resnet50_pred_pca, y_train)\n",
    "\n",
    "print(X_train[:10])\n",
    "print(g_resnet50_pred_pca[:10])\n"
   ]
  },
  {
   "cell_type": "code",
   "execution_count": 28,
   "metadata": {
    "colab": {
     "base_uri": "https://localhost:8080/",
     "height": 158
    },
    "executionInfo": {
     "elapsed": 552,
     "status": "ok",
     "timestamp": 1609081349700,
     "user": {
      "displayName": "Ladislav Sopko",
      "photoUrl": "https://lh3.googleusercontent.com/a-/AOh14GhZP1sNmSDkF7pNkg4wZT9qSXV6rJR6sxtuKOlqAg=s64",
      "userId": "14747611513749191345"
     },
     "user_tz": -60
    },
    "id": "F4pem-Vm0huV",
    "outputId": "2b08d703-99b5-4015-a771-51bc9d55e92f"
   },
   "outputs": [
    {
     "name": "stdout",
     "output_type": "stream",
     "text": [
      "KMeans VGG16: \n"
     ]
    },
    {
     "data": {
      "text/html": [
       "<div>\n",
       "<style scoped>\n",
       "    .dataframe tbody tr th:only-of-type {\n",
       "        vertical-align: middle;\n",
       "    }\n",
       "\n",
       "    .dataframe tbody tr th {\n",
       "        vertical-align: top;\n",
       "    }\n",
       "\n",
       "    .dataframe thead th {\n",
       "        text-align: right;\n",
       "    }\n",
       "</style>\n",
       "<table border=\"1\" class=\"dataframe\">\n",
       "  <thead>\n",
       "    <tr style=\"text-align: right;\">\n",
       "      <th></th>\n",
       "      <th>0</th>\n",
       "      <th>1</th>\n",
       "    </tr>\n",
       "  </thead>\n",
       "  <tbody>\n",
       "    <tr>\n",
       "      <th>R10</th>\n",
       "      <td>0</td>\n",
       "      <td>137</td>\n",
       "    </tr>\n",
       "    <tr>\n",
       "      <th>N1</th>\n",
       "      <td>63</td>\n",
       "      <td>7</td>\n",
       "    </tr>\n",
       "  </tbody>\n",
       "</table>\n",
       "</div>"
      ],
      "text/plain": [
       "      0    1\n",
       "R10   0  137\n",
       "N1   63    7"
      ]
     },
     "execution_count": 28,
     "metadata": {},
     "output_type": "execute_result"
    }
   ],
   "source": [
    "print(\"KMeans VGG16: \")\n",
    "vgg16_cluster_count"
   ]
  },
  {
   "cell_type": "code",
   "execution_count": 29,
   "metadata": {
    "colab": {
     "base_uri": "https://localhost:8080/",
     "height": 158
    },
    "executionInfo": {
     "elapsed": 597,
     "status": "ok",
     "timestamp": 1609081398366,
     "user": {
      "displayName": "Ladislav Sopko",
      "photoUrl": "https://lh3.googleusercontent.com/a-/AOh14GhZP1sNmSDkF7pNkg4wZT9qSXV6rJR6sxtuKOlqAg=s64",
      "userId": "14747611513749191345"
     },
     "user_tz": -60
    },
    "id": "u4-74IP40huV",
    "outputId": "bd963708-6033-4f9f-f81f-869d15bd7b70"
   },
   "outputs": [
    {
     "name": "stdout",
     "output_type": "stream",
     "text": [
      "KMeans VGG16 (PCA): \n"
     ]
    },
    {
     "data": {
      "text/html": [
       "<div>\n",
       "<style scoped>\n",
       "    .dataframe tbody tr th:only-of-type {\n",
       "        vertical-align: middle;\n",
       "    }\n",
       "\n",
       "    .dataframe tbody tr th {\n",
       "        vertical-align: top;\n",
       "    }\n",
       "\n",
       "    .dataframe thead th {\n",
       "        text-align: right;\n",
       "    }\n",
       "</style>\n",
       "<table border=\"1\" class=\"dataframe\">\n",
       "  <thead>\n",
       "    <tr style=\"text-align: right;\">\n",
       "      <th></th>\n",
       "      <th>0</th>\n",
       "      <th>1</th>\n",
       "    </tr>\n",
       "  </thead>\n",
       "  <tbody>\n",
       "    <tr>\n",
       "      <th>R10</th>\n",
       "      <td>0</td>\n",
       "      <td>137</td>\n",
       "    </tr>\n",
       "    <tr>\n",
       "      <th>N1</th>\n",
       "      <td>63</td>\n",
       "      <td>7</td>\n",
       "    </tr>\n",
       "  </tbody>\n",
       "</table>\n",
       "</div>"
      ],
      "text/plain": [
       "      0    1\n",
       "R10   0  137\n",
       "N1   63    7"
      ]
     },
     "execution_count": 29,
     "metadata": {},
     "output_type": "execute_result"
    }
   ],
   "source": [
    "print(\"KMeans VGG16 (PCA): \")\n",
    "vgg16_cluster_count_pca"
   ]
  },
  {
   "cell_type": "code",
   "execution_count": 30,
   "metadata": {
    "colab": {
     "base_uri": "https://localhost:8080/",
     "height": 158
    },
    "executionInfo": {
     "elapsed": 550,
     "status": "ok",
     "timestamp": 1609081405001,
     "user": {
      "displayName": "Ladislav Sopko",
      "photoUrl": "https://lh3.googleusercontent.com/a-/AOh14GhZP1sNmSDkF7pNkg4wZT9qSXV6rJR6sxtuKOlqAg=s64",
      "userId": "14747611513749191345"
     },
     "user_tz": -60
    },
    "id": "_0bzhCDE0huW",
    "outputId": "6b0e2f5f-7abe-4cff-95bd-a37190d7d44f"
   },
   "outputs": [
    {
     "name": "stdout",
     "output_type": "stream",
     "text": [
      "GMM VGG16: \n"
     ]
    },
    {
     "data": {
      "text/html": [
       "<div>\n",
       "<style scoped>\n",
       "    .dataframe tbody tr th:only-of-type {\n",
       "        vertical-align: middle;\n",
       "    }\n",
       "\n",
       "    .dataframe tbody tr th {\n",
       "        vertical-align: top;\n",
       "    }\n",
       "\n",
       "    .dataframe thead th {\n",
       "        text-align: right;\n",
       "    }\n",
       "</style>\n",
       "<table border=\"1\" class=\"dataframe\">\n",
       "  <thead>\n",
       "    <tr style=\"text-align: right;\">\n",
       "      <th></th>\n",
       "      <th>0</th>\n",
       "      <th>1</th>\n",
       "    </tr>\n",
       "  </thead>\n",
       "  <tbody>\n",
       "    <tr>\n",
       "      <th>R10</th>\n",
       "      <td>0</td>\n",
       "      <td>137</td>\n",
       "    </tr>\n",
       "    <tr>\n",
       "      <th>N1</th>\n",
       "      <td>63</td>\n",
       "      <td>7</td>\n",
       "    </tr>\n",
       "  </tbody>\n",
       "</table>\n",
       "</div>"
      ],
      "text/plain": [
       "      0    1\n",
       "R10   0  137\n",
       "N1   63    7"
      ]
     },
     "execution_count": 30,
     "metadata": {},
     "output_type": "execute_result"
    }
   ],
   "source": [
    "print(\"GMM VGG16: \")\n",
    "g_vgg16_cluster_count_pca"
   ]
  },
  {
   "cell_type": "markdown",
   "metadata": {
    "id": "PFeFrSAP0huW"
   },
   "source": [
    "We can see now that the Gaussian Model did not give a meaningful result. There are no clear dominant code for each cluster"
   ]
  },
  {
   "cell_type": "code",
   "execution_count": 31,
   "metadata": {
    "colab": {
     "base_uri": "https://localhost:8080/",
     "height": 158
    },
    "executionInfo": {
     "elapsed": 684,
     "status": "ok",
     "timestamp": 1609081417881,
     "user": {
      "displayName": "Ladislav Sopko",
      "photoUrl": "https://lh3.googleusercontent.com/a-/AOh14GhZP1sNmSDkF7pNkg4wZT9qSXV6rJR6sxtuKOlqAg=s64",
      "userId": "14747611513749191345"
     },
     "user_tz": -60
    },
    "id": "Kcb8tnmn0huW",
    "outputId": "45c1da81-0444-4933-c5ad-2304525766dd"
   },
   "outputs": [
    {
     "name": "stdout",
     "output_type": "stream",
     "text": [
      "KMeans VGG19: \n"
     ]
    },
    {
     "data": {
      "text/html": [
       "<div>\n",
       "<style scoped>\n",
       "    .dataframe tbody tr th:only-of-type {\n",
       "        vertical-align: middle;\n",
       "    }\n",
       "\n",
       "    .dataframe tbody tr th {\n",
       "        vertical-align: top;\n",
       "    }\n",
       "\n",
       "    .dataframe thead th {\n",
       "        text-align: right;\n",
       "    }\n",
       "</style>\n",
       "<table border=\"1\" class=\"dataframe\">\n",
       "  <thead>\n",
       "    <tr style=\"text-align: right;\">\n",
       "      <th></th>\n",
       "      <th>0</th>\n",
       "      <th>1</th>\n",
       "    </tr>\n",
       "  </thead>\n",
       "  <tbody>\n",
       "    <tr>\n",
       "      <th>R10</th>\n",
       "      <td>0</td>\n",
       "      <td>137</td>\n",
       "    </tr>\n",
       "    <tr>\n",
       "      <th>N1</th>\n",
       "      <td>70</td>\n",
       "      <td>0</td>\n",
       "    </tr>\n",
       "  </tbody>\n",
       "</table>\n",
       "</div>"
      ],
      "text/plain": [
       "      0    1\n",
       "R10   0  137\n",
       "N1   70    0"
      ]
     },
     "execution_count": 31,
     "metadata": {},
     "output_type": "execute_result"
    }
   ],
   "source": [
    "print(\"KMeans VGG19: \")\n",
    "vgg19_cluster_count"
   ]
  },
  {
   "cell_type": "code",
   "execution_count": 32,
   "metadata": {
    "colab": {
     "base_uri": "https://localhost:8080/",
     "height": 158
    },
    "executionInfo": {
     "elapsed": 610,
     "status": "ok",
     "timestamp": 1609081428848,
     "user": {
      "displayName": "Ladislav Sopko",
      "photoUrl": "https://lh3.googleusercontent.com/a-/AOh14GhZP1sNmSDkF7pNkg4wZT9qSXV6rJR6sxtuKOlqAg=s64",
      "userId": "14747611513749191345"
     },
     "user_tz": -60
    },
    "id": "9DOcBRam0huX",
    "outputId": "ce71d633-8446-4280-fbbe-86e8a6ca1351"
   },
   "outputs": [
    {
     "name": "stdout",
     "output_type": "stream",
     "text": [
      "KMeans VGG19 (PCA): \n"
     ]
    },
    {
     "data": {
      "text/html": [
       "<div>\n",
       "<style scoped>\n",
       "    .dataframe tbody tr th:only-of-type {\n",
       "        vertical-align: middle;\n",
       "    }\n",
       "\n",
       "    .dataframe tbody tr th {\n",
       "        vertical-align: top;\n",
       "    }\n",
       "\n",
       "    .dataframe thead th {\n",
       "        text-align: right;\n",
       "    }\n",
       "</style>\n",
       "<table border=\"1\" class=\"dataframe\">\n",
       "  <thead>\n",
       "    <tr style=\"text-align: right;\">\n",
       "      <th></th>\n",
       "      <th>0</th>\n",
       "      <th>1</th>\n",
       "    </tr>\n",
       "  </thead>\n",
       "  <tbody>\n",
       "    <tr>\n",
       "      <th>R10</th>\n",
       "      <td>0</td>\n",
       "      <td>137</td>\n",
       "    </tr>\n",
       "    <tr>\n",
       "      <th>N1</th>\n",
       "      <td>70</td>\n",
       "      <td>0</td>\n",
       "    </tr>\n",
       "  </tbody>\n",
       "</table>\n",
       "</div>"
      ],
      "text/plain": [
       "      0    1\n",
       "R10   0  137\n",
       "N1   70    0"
      ]
     },
     "execution_count": 32,
     "metadata": {},
     "output_type": "execute_result"
    }
   ],
   "source": [
    "print(\"KMeans VGG19 (PCA): \")\n",
    "vgg19_cluster_count_pca"
   ]
  },
  {
   "cell_type": "code",
   "execution_count": 33,
   "metadata": {
    "colab": {
     "base_uri": "https://localhost:8080/",
     "height": 158
    },
    "executionInfo": {
     "elapsed": 824,
     "status": "ok",
     "timestamp": 1609081513131,
     "user": {
      "displayName": "Ladislav Sopko",
      "photoUrl": "https://lh3.googleusercontent.com/a-/AOh14GhZP1sNmSDkF7pNkg4wZT9qSXV6rJR6sxtuKOlqAg=s64",
      "userId": "14747611513749191345"
     },
     "user_tz": -60
    },
    "id": "lyCcnMWy0huX",
    "outputId": "9d4f9d3c-93b9-4430-db94-635b6001a9da"
   },
   "outputs": [
    {
     "name": "stdout",
     "output_type": "stream",
     "text": [
      "GMM VGG19 (PCA): \n"
     ]
    },
    {
     "data": {
      "text/html": [
       "<div>\n",
       "<style scoped>\n",
       "    .dataframe tbody tr th:only-of-type {\n",
       "        vertical-align: middle;\n",
       "    }\n",
       "\n",
       "    .dataframe tbody tr th {\n",
       "        vertical-align: top;\n",
       "    }\n",
       "\n",
       "    .dataframe thead th {\n",
       "        text-align: right;\n",
       "    }\n",
       "</style>\n",
       "<table border=\"1\" class=\"dataframe\">\n",
       "  <thead>\n",
       "    <tr style=\"text-align: right;\">\n",
       "      <th></th>\n",
       "      <th>0</th>\n",
       "      <th>1</th>\n",
       "    </tr>\n",
       "  </thead>\n",
       "  <tbody>\n",
       "    <tr>\n",
       "      <th>R10</th>\n",
       "      <td>0</td>\n",
       "      <td>137</td>\n",
       "    </tr>\n",
       "    <tr>\n",
       "      <th>N1</th>\n",
       "      <td>70</td>\n",
       "      <td>0</td>\n",
       "    </tr>\n",
       "  </tbody>\n",
       "</table>\n",
       "</div>"
      ],
      "text/plain": [
       "      0    1\n",
       "R10   0  137\n",
       "N1   70    0"
      ]
     },
     "execution_count": 33,
     "metadata": {},
     "output_type": "execute_result"
    }
   ],
   "source": [
    "print(\"GMM VGG19 (PCA): \")\n",
    "g_vgg19_cluster_count_pca"
   ]
  },
  {
   "cell_type": "code",
   "execution_count": 34,
   "metadata": {
    "colab": {
     "base_uri": "https://localhost:8080/",
     "height": 201
    },
    "executionInfo": {
     "elapsed": 710,
     "status": "error",
     "timestamp": 1609081529532,
     "user": {
      "displayName": "Ladislav Sopko",
      "photoUrl": "https://lh3.googleusercontent.com/a-/AOh14GhZP1sNmSDkF7pNkg4wZT9qSXV6rJR6sxtuKOlqAg=s64",
      "userId": "14747611513749191345"
     },
     "user_tz": -60
    },
    "id": "BSW4e54V0huX",
    "outputId": "5a0a6956-9126-4fc5-8be8-deb9c7aa3c0b"
   },
   "outputs": [
    {
     "name": "stdout",
     "output_type": "stream",
     "text": [
      "KMeans Resnet50: \n"
     ]
    },
    {
     "data": {
      "text/html": [
       "<div>\n",
       "<style scoped>\n",
       "    .dataframe tbody tr th:only-of-type {\n",
       "        vertical-align: middle;\n",
       "    }\n",
       "\n",
       "    .dataframe tbody tr th {\n",
       "        vertical-align: top;\n",
       "    }\n",
       "\n",
       "    .dataframe thead th {\n",
       "        text-align: right;\n",
       "    }\n",
       "</style>\n",
       "<table border=\"1\" class=\"dataframe\">\n",
       "  <thead>\n",
       "    <tr style=\"text-align: right;\">\n",
       "      <th></th>\n",
       "      <th>0</th>\n",
       "      <th>1</th>\n",
       "    </tr>\n",
       "  </thead>\n",
       "  <tbody>\n",
       "    <tr>\n",
       "      <th>R10</th>\n",
       "      <td>134</td>\n",
       "      <td>3</td>\n",
       "    </tr>\n",
       "    <tr>\n",
       "      <th>N1</th>\n",
       "      <td>0</td>\n",
       "      <td>70</td>\n",
       "    </tr>\n",
       "  </tbody>\n",
       "</table>\n",
       "</div>"
      ],
      "text/plain": [
       "       0   1\n",
       "R10  134   3\n",
       "N1     0  70"
      ]
     },
     "execution_count": 34,
     "metadata": {},
     "output_type": "execute_result"
    }
   ],
   "source": [
    "print(\"KMeans Resnet50: \")\n",
    "resnet_cluster_count"
   ]
  },
  {
   "cell_type": "code",
   "execution_count": 35,
   "metadata": {
    "colab": {
     "base_uri": "https://localhost:8080/",
     "height": 127
    },
    "executionInfo": {
     "elapsed": 71895,
     "status": "ok",
     "timestamp": 1608665352153,
     "user": {
      "displayName": "Giulio Berti",
      "photoUrl": "https://lh3.googleusercontent.com/a-/AOh14GgDg31lDj5yYmTfyvREh4EnwrHm1nzfdg7Dq6r_Bw=s64",
      "userId": "10415348582045446936"
     },
     "user_tz": -60
    },
    "id": "tROZhS840huY",
    "outputId": "e642192d-87a8-49b8-f1df-b1913d5b7cce"
   },
   "outputs": [
    {
     "name": "stdout",
     "output_type": "stream",
     "text": [
      "Kmeans Resnet50 (PCA): \n"
     ]
    },
    {
     "data": {
      "text/html": [
       "<div>\n",
       "<style scoped>\n",
       "    .dataframe tbody tr th:only-of-type {\n",
       "        vertical-align: middle;\n",
       "    }\n",
       "\n",
       "    .dataframe tbody tr th {\n",
       "        vertical-align: top;\n",
       "    }\n",
       "\n",
       "    .dataframe thead th {\n",
       "        text-align: right;\n",
       "    }\n",
       "</style>\n",
       "<table border=\"1\" class=\"dataframe\">\n",
       "  <thead>\n",
       "    <tr style=\"text-align: right;\">\n",
       "      <th></th>\n",
       "      <th>0</th>\n",
       "      <th>1</th>\n",
       "    </tr>\n",
       "  </thead>\n",
       "  <tbody>\n",
       "    <tr>\n",
       "      <th>R10</th>\n",
       "      <td>134</td>\n",
       "      <td>3</td>\n",
       "    </tr>\n",
       "    <tr>\n",
       "      <th>N1</th>\n",
       "      <td>0</td>\n",
       "      <td>70</td>\n",
       "    </tr>\n",
       "  </tbody>\n",
       "</table>\n",
       "</div>"
      ],
      "text/plain": [
       "       0   1\n",
       "R10  134   3\n",
       "N1     0  70"
      ]
     },
     "execution_count": 35,
     "metadata": {},
     "output_type": "execute_result"
    }
   ],
   "source": [
    "print(\"Kmeans Resnet50 (PCA): \")\n",
    "resnet_cluster_count_pca"
   ]
  },
  {
   "cell_type": "code",
   "execution_count": 36,
   "metadata": {
    "colab": {
     "base_uri": "https://localhost:8080/",
     "height": 158
    },
    "executionInfo": {
     "elapsed": 564,
     "status": "ok",
     "timestamp": 1609081537644,
     "user": {
      "displayName": "Ladislav Sopko",
      "photoUrl": "https://lh3.googleusercontent.com/a-/AOh14GhZP1sNmSDkF7pNkg4wZT9qSXV6rJR6sxtuKOlqAg=s64",
      "userId": "14747611513749191345"
     },
     "user_tz": -60
    },
    "id": "9U3rKlU90huY",
    "outputId": "119c7d4b-c211-45d5-f022-571f7655c9b2"
   },
   "outputs": [
    {
     "name": "stdout",
     "output_type": "stream",
     "text": [
      "GMM Resnet50 (PCA): \n"
     ]
    },
    {
     "data": {
      "text/html": [
       "<div>\n",
       "<style scoped>\n",
       "    .dataframe tbody tr th:only-of-type {\n",
       "        vertical-align: middle;\n",
       "    }\n",
       "\n",
       "    .dataframe tbody tr th {\n",
       "        vertical-align: top;\n",
       "    }\n",
       "\n",
       "    .dataframe thead th {\n",
       "        text-align: right;\n",
       "    }\n",
       "</style>\n",
       "<table border=\"1\" class=\"dataframe\">\n",
       "  <thead>\n",
       "    <tr style=\"text-align: right;\">\n",
       "      <th></th>\n",
       "      <th>0</th>\n",
       "      <th>1</th>\n",
       "    </tr>\n",
       "  </thead>\n",
       "  <tbody>\n",
       "    <tr>\n",
       "      <th>R10</th>\n",
       "      <td>134</td>\n",
       "      <td>3</td>\n",
       "    </tr>\n",
       "    <tr>\n",
       "      <th>N1</th>\n",
       "      <td>0</td>\n",
       "      <td>70</td>\n",
       "    </tr>\n",
       "  </tbody>\n",
       "</table>\n",
       "</div>"
      ],
      "text/plain": [
       "       0   1\n",
       "R10  134   3\n",
       "N1     0  70"
      ]
     },
     "execution_count": 36,
     "metadata": {},
     "output_type": "execute_result"
    }
   ],
   "source": [
    "print(\"GMM Resnet50 (PCA): \")\n",
    "g_resnet50_cluster_count_pca"
   ]
  },
  {
   "cell_type": "markdown",
   "metadata": {
    "id": "Xgrqzyz90huY"
   },
   "source": [
    "We can see again, that models which took ResNet50 representations could not produce meaningful clusters. We will therefore stop pursuing them.\n",
    "\n",
    "The models that made it through are:\n",
    "\n",
    "1. KMeans VGG16\n",
    "2. KMeans VGG16 PCA\n",
    "3. KMeans VGG19\n",
    "4. KMeans VGG19 PCA\n",
    "\n",
    "\n",
    "Let's calculate some scores and see which one performs best."
   ]
  },
  {
   "cell_type": "markdown",
   "metadata": {
    "id": "S1iO7vwU0huZ"
   },
   "source": [
    "### Cluster - Label assignment\n",
    "\n",
    "In this part, we will manually look at the cluster count and give a best guess as to which cluster corresonds to which label. While normally each cluster will mostly consist of one label, it is not necessary the case if the clustering algorithm fails to seperate the images. It is therefore better to take stock here, and make sure that we are on the right path."
   ]
  },
  {
   "cell_type": "code",
   "execution_count": 38,
   "metadata": {
    "executionInfo": {
     "elapsed": 655,
     "status": "ok",
     "timestamp": 1609081555715,
     "user": {
      "displayName": "Ladislav Sopko",
      "photoUrl": "https://lh3.googleusercontent.com/a-/AOh14GhZP1sNmSDkF7pNkg4wZT9qSXV6rJR6sxtuKOlqAg=s64",
      "userId": "14747611513749191345"
     },
     "user_tz": -60
    },
    "id": "GiKTQliR0huZ"
   },
   "outputs": [],
   "source": [
    "# Manually adjust these lists so that the index of each label reflects which cluter it lies in\n",
    "vgg16_cluster_code = [\"R10\", \"R30\"]\n",
    "vgg16_cluster_code_pca = [\"R10\", \"R30\"]\n",
    "\n",
    "vgg19_cluster_code = [\"R10\", \"R30\"]\n",
    "vgg19_cluster_code_pca = [\"R10\", \"R30\"]\n",
    "g_vgg19_cluster_code_pca = [\"R10\", \"R30\"]\n",
    "\n"
   ]
  },
  {
   "cell_type": "markdown",
   "metadata": {
    "id": "Nr1JyioZ0huZ"
   },
   "source": [
    "### Replace the predicted clusters with their labels"
   ]
  },
  {
   "cell_type": "code",
   "execution_count": 39,
   "metadata": {
    "colab": {
     "base_uri": "https://localhost:8080/",
     "height": 357
    },
    "executionInfo": {
     "elapsed": 561,
     "status": "error",
     "timestamp": 1609081574484,
     "user": {
      "displayName": "Ladislav Sopko",
      "photoUrl": "https://lh3.googleusercontent.com/a-/AOh14GhZP1sNmSDkF7pNkg4wZT9qSXV6rJR6sxtuKOlqAg=s64",
      "userId": "14747611513749191345"
     },
     "user_tz": -60
    },
    "id": "3wUlRR6E0huZ",
    "outputId": "3aa3e388-91bc-499f-e0ba-dda12f1e86b7"
   },
   "outputs": [],
   "source": [
    "vgg16_pred_codes = [vgg16_cluster_code[x] for x in k_vgg16_pred]\n",
    "vgg16_pred_codes_pca = [vgg16_cluster_code_pca[x] for x in k_vgg16_pred_pca]\n",
    "vgg19_pred_codes = [vgg19_cluster_code[x] for x in k_vgg19_pred]\n",
    "vgg19_pred_codes_pca = [vgg19_cluster_code_pca[x] for x in k_vgg19_pred_pca]\n",
    "g_vgg19_pred_codes_pca = [g_vgg19_cluster_code_pca[x] for x in g_vgg19_pred_pca]\n"
   ]
  },
  {
   "cell_type": "markdown",
   "metadata": {
    "id": "TvSeG-a50huZ"
   },
   "source": [
    "### Metrics\n",
    "\n",
    "Now that we have two arrays, one with the predicted labels and one with the true labels, we can go crazy with performance scores... or we can just compute the F1 score"
   ]
  },
  {
   "cell_type": "code",
   "execution_count": 40,
   "metadata": {
    "colab": {
     "base_uri": "https://localhost:8080/"
    },
    "executionInfo": {
     "elapsed": 71852,
     "status": "ok",
     "timestamp": 1608665352158,
     "user": {
      "displayName": "Giulio Berti",
      "photoUrl": "https://lh3.googleusercontent.com/a-/AOh14GgDg31lDj5yYmTfyvREh4EnwrHm1nzfdg7Dq6r_Bw=s64",
      "userId": "10415348582045446936"
     },
     "user_tz": -60
    },
    "id": "cMUdHclo0hua",
    "outputId": "0373a993-fe11-42b1-9331-b63eb01ec2ee"
   },
   "outputs": [
    {
     "name": "stdout",
     "output_type": "stream",
     "text": [
      "KMeans VGG16: \n",
      "\tF1 Score: 0.56589609   |   Accuracy: 0.56589609\n",
      "KMeans VGG16 (PCA) \n",
      "\tF1 Score: 0.56589609   |   Accuracy: 0.56589609\n",
      "\n",
      "KMeans VGG19:  \n",
      "\tF1 Score: 0.50373134   |   Accuracy: 0.50373134\n",
      "KMeans VGG19 (PCA):  \n",
      "\tF1 Score: 0.50373134   |   Accuracy: 0.50373134\n"
     ]
    }
   ],
   "source": [
    "from sklearn.metrics import accuracy_score, f1_score\n",
    "\n",
    "def print_scores(true, pred):\n",
    "    acc = accuracy_score(true, pred)\n",
    "    f1 = f1_score(true, pred, average=\"macro\")\n",
    "    return \"\\n\\tF1 Score: {0:0.8f}   |   Accuracy: {0:0.8f}\".format(f1,acc)\n",
    "\n",
    "print(\"KMeans VGG16:\", print_scores(y_train, vgg16_pred_codes))\n",
    "print(\"KMeans VGG16 (PCA)\", print_scores(y_train, vgg16_pred_codes_pca))\n",
    "\n",
    "print(\"\\nKMeans VGG19: \", print_scores(y_train, vgg19_pred_codes))\n",
    "print(\"KMeans VGG19 (PCA): \", print_scores(y_train, vgg19_pred_codes_pca))\n",
    "# print(\"GMM VGG19 (PCA)\", print_scores(y_train, g_vgg19_pred_codes_pca))\n"
   ]
  },
  {
   "cell_type": "markdown",
   "metadata": {
    "id": "qQnAgJRg0hua"
   },
   "source": [
    "### of note:\n",
    "\n",
    "1. The scores (and cluster counts) of PCA and non-PCA transformed outputs are exactly the same. Since we fixed all random states, with the only difference being the inputs, we can see that PCA-transformed data adequately represents the original data while givig us faster training times and lower memory usage.\n",
    "\n",
    "2. The clusters for PCA and non-PCA transformed data are exactly in the same order."
   ]
  },
  {
   "cell_type": "markdown",
   "metadata": {
    "id": "Ro_GVM9D0hua"
   },
   "source": [
    "### Testing Time\n",
    "\n",
    "Ultimately, for best results, you would want to do this whole excercise every time you change your data in order to find out which model is the best for this particular data.\n",
    "\n",
    "We can now then do the same thing for our testing data, and see if it gives the best accuracy again. We can keep testing this for more and more breed pairs to gain more confidence that our model works.\n",
    "\n",
    "This is in the end an unsupevised learning excercise, and we would not be able to check which model is best for a particular set of data if we do not have labels for them. The closer your images are to the dataset images, the better chance you have of getting a high accuracy."
   ]
  },
  {
   "cell_type": "code",
   "execution_count": 14,
   "metadata": {
    "id": "3HVtIMka0hub"
   },
   "outputs": [],
   "source": [
    "# Let's put it all together\n",
    "\n",
    "\n",
    "\n",
    "def all_covnet_transform(data):\n",
    "    vgg16 = covnet_transform(vgg16_model, data)\n",
    "    vgg19 = covnet_transform(vgg19_model, data)\n",
    "    resnet50 = covnet_transform(resnet50_model, data)\n",
    "    \n",
    "    return vgg16, vgg19, resnet50\n",
    "\n",
    "\n",
    "def image_load_to_cluster_count(codes, w, h):\n",
    "    # Load images\n",
    "    images, labels = load_images(codes, w, h)\n",
    "    print(len(images), len(labels))\n",
    "    show_random_images(images, labels)\n",
    "    \n",
    "    # Normalise images\n",
    "    images, labels = normalise_images(images, labels)\n",
    "    \n",
    "    # Split data\n",
    "    data, labels = shuffle_data(images, labels)\n",
    "    \n",
    "    # Get covnet outputs\n",
    "    vgg16_output, vgg19_output, resnet50_output = all_covnet_transform(data)\n",
    "    \n",
    "    # Get PCA transformations\n",
    "    vgg16_output_pca = create_fit_PCA(vgg16_output).transform(vgg16_output)\n",
    "    vgg19_output_pca = create_fit_PCA(vgg19_output).transform(vgg19_output)\n",
    "    resnet50_output_pca = create_fit_PCA(resnet50_output).transform(resnet50_output)\n",
    "    \n",
    "    # Cluster\n",
    "    clusters = len(codes)\n",
    "    \n",
    "    K_vgg16_pred = create_train_kmeans(vgg16_output, clusters).predict(vgg16_output)\n",
    "    K_vgg19_pred = create_train_kmeans(vgg19_output, clusters).predict(vgg19_output)\n",
    "    K_resnet50_pred = create_train_kmeans(resnet50_output, clusters).predict(resnet50_output)\n",
    "    K_vgg16_pred_pca = create_train_kmeans(vgg16_output_pca, clusters).predict(vgg16_output_pca)\n",
    "    K_vgg19_pred_pca = create_train_kmeans(vgg19_output_pca, clusters).predict(vgg19_output_pca)\n",
    "    K_resnet50_pred_pca = create_train_kmeans(resnet50_output_pca, clusters).predict(resnet50_output_pca)\n",
    "    G_vgg16_pred_pca = create_train_gmm(vgg16_output_pca, clusters).predict(vgg16_output_pca)\n",
    "    G_vgg19_pred_pca = create_train_gmm(vgg19_output_pca, clusters).predict(vgg19_output_pca)\n",
    "    G_resnet50_pred_pca = create_train_gmm(resnet50_output_pca, clusters).predict(resnet50_output_pca)\n",
    "    \n",
    "    # Count\n",
    "    vgg16_cluster_count = cluster_label_count(K_vgg16_pred, labels)\n",
    "    vgg16_cluster_count_pca = cluster_label_count(K_vgg16_pred_pca, labels)\n",
    "\n",
    "    # VGG19 KMeans\n",
    "    vgg19_cluster_count = cluster_label_count(K_vgg19_pred, labels)\n",
    "    vgg19_cluster_count_pca = cluster_label_count(K_vgg19_pred_pca, labels)\n",
    "\n",
    "    # ResNet50 KMeans\n",
    "    resnet_cluster_count = cluster_label_count(K_resnet50_pred, labels)\n",
    "    resnet_cluster_count_pca = cluster_label_count(K_resnet50_pred_pca, labels)\n",
    "\n",
    "    # GMM\n",
    "    g_vgg16_cluster_count_pca = cluster_label_count(G_vgg16_pred_pca, labels)\n",
    "    g_vgg19_cluster_count_pca = cluster_label_count(G_vgg19_pred_pca, labels)\n",
    "    g_resnet50_cluster_count_pca = cluster_label_count(G_resnet50_pred_pca, labels)\n",
    "    \n",
    "    print(\"KMeans VGG16: \")\n",
    "    print(vgg16_cluster_count)\n",
    "    print(\"\\nKMeans VGG16 (PCA): \")\n",
    "    print(vgg16_cluster_count_pca)\n",
    "    print(\"\\nGMM VGG16: \")\n",
    "    print(g_vgg16_cluster_count_pca)\n",
    "    print(\"\\nKMeans VGG19: \")\n",
    "    print(vgg19_cluster_count)\n",
    "    print(\"\\nKMeans VGG19 (PCA): \")\n",
    "    print(vgg19_cluster_count_pca)\n",
    "    print(\"GMM VGG19 (PCA): \")\n",
    "    print(g_vgg19_cluster_count_pca)\n",
    "    print(\"KMeans Resnet50: \")\n",
    "    print(resnet_cluster_count)\n",
    "    print(\"Kmeans Resnet50 (PCA): \")\n",
    "    print(resnet_cluster_count_pca)\n",
    "    print(\"GMM Resnet50 (PCA): \")\n",
    "    print(g_resnet50_cluster_count_pca)\n",
    "    \n",
    "    return  K_vgg16_pred, K_vgg16_pred_pca, K_vgg19_pred, K_vgg19_pred_pca, G_vgg19_pred_pca, images, labels\n",
    "    \n",
    "    "
   ]
  },
  {
   "cell_type": "code",
   "execution_count": 20,
   "metadata": {
    "colab": {
     "base_uri": "https://localhost:8080/",
     "height": 1000
    },
    "executionInfo": {
     "elapsed": 242657,
     "status": "ok",
     "timestamp": 1608665522987,
     "user": {
      "displayName": "Giulio Berti",
      "photoUrl": "https://lh3.googleusercontent.com/a-/AOh14GgDg31lDj5yYmTfyvREh4EnwrHm1nzfdg7Dq6r_Bw=s64",
      "userId": "10415348582045446936"
     },
     "user_tz": -60
    },
    "id": "oiKupMPo0hub",
    "outputId": "e054018d-8d5b-439d-b8bf-04d548526165"
   },
   "outputs": [
    {
     "ename": "NameError",
     "evalue": "name 'dataset' is not defined",
     "output_type": "error",
     "traceback": [
      "\u001b[1;31m---------------------------------------------------------------------------\u001b[0m",
      "\u001b[1;31mNameError\u001b[0m                                 Traceback (most recent call last)",
      "\u001b[1;32m<ipython-input-20-477df7e82beb>\u001b[0m in \u001b[0;36m<module>\u001b[1;34m\u001b[0m\n\u001b[0;32m      1\u001b[0m \u001b[0mcodes\u001b[0m \u001b[1;33m=\u001b[0m \u001b[1;33m[\u001b[0m\u001b[1;34m\"R11\"\u001b[0m\u001b[1;33m,\u001b[0m \u001b[1;34m\"R31\"\u001b[0m\u001b[1;33m]\u001b[0m\u001b[1;33m\u001b[0m\u001b[1;33m\u001b[0m\u001b[0m\n\u001b[1;32m----> 2\u001b[1;33m \u001b[0moutputs\u001b[0m \u001b[1;33m=\u001b[0m \u001b[0mimage_load_to_cluster_count\u001b[0m\u001b[1;33m(\u001b[0m\u001b[0mcodes\u001b[0m\u001b[1;33m,\u001b[0m \u001b[1;36m100\u001b[0m\u001b[1;33m,\u001b[0m \u001b[1;36m100\u001b[0m\u001b[1;33m)\u001b[0m\u001b[1;33m\u001b[0m\u001b[1;33m\u001b[0m\u001b[0m\n\u001b[0m",
      "\u001b[1;32m<ipython-input-14-ab0003cf6381>\u001b[0m in \u001b[0;36mimage_load_to_cluster_count\u001b[1;34m(codes, w, h)\u001b[0m\n\u001b[0;32m     13\u001b[0m \u001b[1;32mdef\u001b[0m \u001b[0mimage_load_to_cluster_count\u001b[0m\u001b[1;33m(\u001b[0m\u001b[0mcodes\u001b[0m\u001b[1;33m,\u001b[0m \u001b[0mw\u001b[0m\u001b[1;33m,\u001b[0m \u001b[0mh\u001b[0m\u001b[1;33m)\u001b[0m\u001b[1;33m:\u001b[0m\u001b[1;33m\u001b[0m\u001b[1;33m\u001b[0m\u001b[0m\n\u001b[0;32m     14\u001b[0m     \u001b[1;31m# Load images\u001b[0m\u001b[1;33m\u001b[0m\u001b[1;33m\u001b[0m\u001b[1;33m\u001b[0m\u001b[0m\n\u001b[1;32m---> 15\u001b[1;33m     \u001b[0mimages\u001b[0m\u001b[1;33m,\u001b[0m \u001b[0mlabels\u001b[0m \u001b[1;33m=\u001b[0m \u001b[0mload_images\u001b[0m\u001b[1;33m(\u001b[0m\u001b[0mcodes\u001b[0m\u001b[1;33m,\u001b[0m \u001b[0mw\u001b[0m\u001b[1;33m,\u001b[0m \u001b[0mh\u001b[0m\u001b[1;33m)\u001b[0m\u001b[1;33m\u001b[0m\u001b[1;33m\u001b[0m\u001b[0m\n\u001b[0m\u001b[0;32m     16\u001b[0m     \u001b[0mprint\u001b[0m\u001b[1;33m(\u001b[0m\u001b[0mlen\u001b[0m\u001b[1;33m(\u001b[0m\u001b[0mimages\u001b[0m\u001b[1;33m)\u001b[0m\u001b[1;33m,\u001b[0m \u001b[0mlen\u001b[0m\u001b[1;33m(\u001b[0m\u001b[0mlabels\u001b[0m\u001b[1;33m)\u001b[0m\u001b[1;33m)\u001b[0m\u001b[1;33m\u001b[0m\u001b[1;33m\u001b[0m\u001b[0m\n\u001b[0;32m     17\u001b[0m     \u001b[0mshow_random_images\u001b[0m\u001b[1;33m(\u001b[0m\u001b[0mimages\u001b[0m\u001b[1;33m,\u001b[0m \u001b[0mlabels\u001b[0m\u001b[1;33m)\u001b[0m\u001b[1;33m\u001b[0m\u001b[1;33m\u001b[0m\u001b[0m\n",
      "\u001b[1;32m<ipython-input-3-6d876d86219f>\u001b[0m in \u001b[0;36mload_images\u001b[1;34m(codes, clumpW, clumpH)\u001b[0m\n\u001b[0;32m     14\u001b[0m     \u001b[1;32mfor\u001b[0m \u001b[0mcode\u001b[0m \u001b[1;32min\u001b[0m \u001b[0mcodes\u001b[0m\u001b[1;33m:\u001b[0m\u001b[1;33m\u001b[0m\u001b[1;33m\u001b[0m\u001b[0m\n\u001b[0;32m     15\u001b[0m         \u001b[1;31m# get the folder name for this code\u001b[0m\u001b[1;33m\u001b[0m\u001b[1;33m\u001b[0m\u001b[1;33m\u001b[0m\u001b[0m\n\u001b[1;32m---> 16\u001b[1;33m         \u001b[0mfolder_name\u001b[0m \u001b[1;33m=\u001b[0m \u001b[0mdataset\u001b[0m\u001b[1;33m.\u001b[0m\u001b[0mloc\u001b[0m\u001b[1;33m[\u001b[0m\u001b[0mcode\u001b[0m\u001b[1;33m]\u001b[0m\u001b[1;33m[\u001b[0m\u001b[1;34m\"Folder name\"\u001b[0m\u001b[1;33m]\u001b[0m\u001b[1;33m\u001b[0m\u001b[1;33m\u001b[0m\u001b[0m\n\u001b[0m\u001b[0;32m     17\u001b[0m \u001b[1;33m\u001b[0m\u001b[0m\n\u001b[0;32m     18\u001b[0m         \u001b[1;32mfor\u001b[0m \u001b[0mfile\u001b[0m \u001b[1;32min\u001b[0m \u001b[0mdataset\u001b[0m\u001b[1;33m.\u001b[0m\u001b[0mloc\u001b[0m\u001b[1;33m[\u001b[0m\u001b[0mcode\u001b[0m\u001b[1;33m]\u001b[0m\u001b[1;33m[\u001b[0m\u001b[1;34m\"File names\"\u001b[0m\u001b[1;33m]\u001b[0m\u001b[1;33m:\u001b[0m\u001b[1;33m\u001b[0m\u001b[1;33m\u001b[0m\u001b[0m\n",
      "\u001b[1;31mNameError\u001b[0m: name 'dataset' is not defined"
     ]
    }
   ],
   "source": [
    "codes = [\"R11\", \"R31\"]\n",
    "outputs = image_load_to_cluster_count(codes, 100, 100)"
   ]
  },
  {
   "cell_type": "code",
   "execution_count": null,
   "metadata": {
    "colab": {
     "base_uri": "https://localhost:8080/"
    },
    "executionInfo": {
     "elapsed": 242646,
     "status": "ok",
     "timestamp": 1608665522994,
     "user": {
      "displayName": "Giulio Berti",
      "photoUrl": "https://lh3.googleusercontent.com/a-/AOh14GgDg31lDj5yYmTfyvREh4EnwrHm1nzfdg7Dq6r_Bw=s64",
      "userId": "10415348582045446936"
     },
     "user_tz": -60
    },
    "id": "Yuj4Ksv10hub",
    "outputId": "58dac47a-42a0-49c7-af84-8900edbf1fc9"
   },
   "outputs": [],
   "source": [
    "# Manually adjust these lists so that the index of each label reflects which cluter it lies in\n",
    "vgg16_cluster_code = [\"R11\",\"R21\", \"R31\"]\n",
    "vgg16_cluster_code_pca = [\"R11\",\"R21\", \"R31\"]\n",
    "\n",
    "vgg19_cluster_code = [\"R11\",\"R21\", \"R31\"]\n",
    "vgg19_cluster_code_pca = [\"R11\",\"R21\", \"R31\"]\n",
    "g_vgg19_cluster_code_pca = [\"R11\",\"R21\", \"R31\"]\n",
    "\n",
    "\n",
    "vgg16_pred_codes = [vgg16_cluster_code[x] for x in outputs[0]]\n",
    "vgg16_pred_codes_pca = [vgg16_cluster_code_pca[x] for x in outputs[1]]\n",
    "vgg19_pred_codes = [vgg19_cluster_code[x] for x in outputs[2]]\n",
    "vgg19_pred_codes_pca = [vgg19_cluster_code_pca[x] for x in outputs[3]]\n",
    "g_vgg19_pred_codes_pca = [g_vgg19_cluster_code_pca[x] for x in outputs[4]]\n",
    "\n",
    "print(\"KMeans VGG16:\", print_scores(outputs[-1], vgg16_pred_codes))\n",
    "print(\"KMeans VGG16 (PCA)\", print_scores(outputs[-1], vgg16_pred_codes_pca))\n",
    "\n",
    "print(\"\\nKMeans VGG19: \", print_scores(outputs[-1], vgg19_pred_codes))\n",
    "print(\"KMeans VGG19 (PCA): \", print_scores(outputs[-1], vgg19_pred_codes_pca))\n",
    "print(\"GMM VGG19 (PCA)\", print_scores(outputs[-1], g_vgg19_pred_codes_pca))\n"
   ]
  },
  {
   "cell_type": "markdown",
   "metadata": {
    "id": "lgFjRPj_0huc"
   },
   "source": [
    "Looks like VGG16 is doing the best again! Let's test one more time..."
   ]
  },
  {
   "cell_type": "code",
   "execution_count": 15,
   "metadata": {
    "colab": {
     "base_uri": "https://localhost:8080/",
     "height": 1000
    },
    "executionInfo": {
     "elapsed": 267008,
     "status": "ok",
     "timestamp": 1608665547373,
     "user": {
      "displayName": "Giulio Berti",
      "photoUrl": "https://lh3.googleusercontent.com/a-/AOh14GgDg31lDj5yYmTfyvREh4EnwrHm1nzfdg7Dq6r_Bw=s64",
      "userId": "10415348582045446936"
     },
     "user_tz": -60
    },
    "id": "bNTBWOV10huc",
    "outputId": "df482dc5-54e7-476d-cf56-aa2d238a0509"
   },
   "outputs": [
    {
     "ename": "NameError",
     "evalue": "name 'dataset' is not defined",
     "output_type": "error",
     "traceback": [
      "\u001b[1;31m---------------------------------------------------------------------------\u001b[0m",
      "\u001b[1;31mNameError\u001b[0m                                 Traceback (most recent call last)",
      "\u001b[1;32m<ipython-input-15-477df7e82beb>\u001b[0m in \u001b[0;36m<module>\u001b[1;34m\u001b[0m\n\u001b[0;32m      1\u001b[0m \u001b[0mcodes\u001b[0m \u001b[1;33m=\u001b[0m \u001b[1;33m[\u001b[0m\u001b[1;34m\"R11\"\u001b[0m\u001b[1;33m,\u001b[0m \u001b[1;34m\"R31\"\u001b[0m\u001b[1;33m]\u001b[0m\u001b[1;33m\u001b[0m\u001b[1;33m\u001b[0m\u001b[0m\n\u001b[1;32m----> 2\u001b[1;33m \u001b[0moutputs\u001b[0m \u001b[1;33m=\u001b[0m \u001b[0mimage_load_to_cluster_count\u001b[0m\u001b[1;33m(\u001b[0m\u001b[0mcodes\u001b[0m\u001b[1;33m,\u001b[0m \u001b[1;36m100\u001b[0m\u001b[1;33m,\u001b[0m \u001b[1;36m100\u001b[0m\u001b[1;33m)\u001b[0m\u001b[1;33m\u001b[0m\u001b[1;33m\u001b[0m\u001b[0m\n\u001b[0m",
      "\u001b[1;32m<ipython-input-14-ab0003cf6381>\u001b[0m in \u001b[0;36mimage_load_to_cluster_count\u001b[1;34m(codes, w, h)\u001b[0m\n\u001b[0;32m     13\u001b[0m \u001b[1;32mdef\u001b[0m \u001b[0mimage_load_to_cluster_count\u001b[0m\u001b[1;33m(\u001b[0m\u001b[0mcodes\u001b[0m\u001b[1;33m,\u001b[0m \u001b[0mw\u001b[0m\u001b[1;33m,\u001b[0m \u001b[0mh\u001b[0m\u001b[1;33m)\u001b[0m\u001b[1;33m:\u001b[0m\u001b[1;33m\u001b[0m\u001b[1;33m\u001b[0m\u001b[0m\n\u001b[0;32m     14\u001b[0m     \u001b[1;31m# Load images\u001b[0m\u001b[1;33m\u001b[0m\u001b[1;33m\u001b[0m\u001b[1;33m\u001b[0m\u001b[0m\n\u001b[1;32m---> 15\u001b[1;33m     \u001b[0mimages\u001b[0m\u001b[1;33m,\u001b[0m \u001b[0mlabels\u001b[0m \u001b[1;33m=\u001b[0m \u001b[0mload_images\u001b[0m\u001b[1;33m(\u001b[0m\u001b[0mcodes\u001b[0m\u001b[1;33m,\u001b[0m \u001b[0mw\u001b[0m\u001b[1;33m,\u001b[0m \u001b[0mh\u001b[0m\u001b[1;33m)\u001b[0m\u001b[1;33m\u001b[0m\u001b[1;33m\u001b[0m\u001b[0m\n\u001b[0m\u001b[0;32m     16\u001b[0m     \u001b[0mprint\u001b[0m\u001b[1;33m(\u001b[0m\u001b[0mlen\u001b[0m\u001b[1;33m(\u001b[0m\u001b[0mimages\u001b[0m\u001b[1;33m)\u001b[0m\u001b[1;33m,\u001b[0m \u001b[0mlen\u001b[0m\u001b[1;33m(\u001b[0m\u001b[0mlabels\u001b[0m\u001b[1;33m)\u001b[0m\u001b[1;33m)\u001b[0m\u001b[1;33m\u001b[0m\u001b[1;33m\u001b[0m\u001b[0m\n\u001b[0;32m     17\u001b[0m     \u001b[0mshow_random_images\u001b[0m\u001b[1;33m(\u001b[0m\u001b[0mimages\u001b[0m\u001b[1;33m,\u001b[0m \u001b[0mlabels\u001b[0m\u001b[1;33m)\u001b[0m\u001b[1;33m\u001b[0m\u001b[1;33m\u001b[0m\u001b[0m\n",
      "\u001b[1;32m<ipython-input-3-6d876d86219f>\u001b[0m in \u001b[0;36mload_images\u001b[1;34m(codes, clumpW, clumpH)\u001b[0m\n\u001b[0;32m     14\u001b[0m     \u001b[1;32mfor\u001b[0m \u001b[0mcode\u001b[0m \u001b[1;32min\u001b[0m \u001b[0mcodes\u001b[0m\u001b[1;33m:\u001b[0m\u001b[1;33m\u001b[0m\u001b[1;33m\u001b[0m\u001b[0m\n\u001b[0;32m     15\u001b[0m         \u001b[1;31m# get the folder name for this code\u001b[0m\u001b[1;33m\u001b[0m\u001b[1;33m\u001b[0m\u001b[1;33m\u001b[0m\u001b[0m\n\u001b[1;32m---> 16\u001b[1;33m         \u001b[0mfolder_name\u001b[0m \u001b[1;33m=\u001b[0m \u001b[0mdataset\u001b[0m\u001b[1;33m.\u001b[0m\u001b[0mloc\u001b[0m\u001b[1;33m[\u001b[0m\u001b[0mcode\u001b[0m\u001b[1;33m]\u001b[0m\u001b[1;33m[\u001b[0m\u001b[1;34m\"Folder name\"\u001b[0m\u001b[1;33m]\u001b[0m\u001b[1;33m\u001b[0m\u001b[1;33m\u001b[0m\u001b[0m\n\u001b[0m\u001b[0;32m     17\u001b[0m \u001b[1;33m\u001b[0m\u001b[0m\n\u001b[0;32m     18\u001b[0m         \u001b[1;32mfor\u001b[0m \u001b[0mfile\u001b[0m \u001b[1;32min\u001b[0m \u001b[0mdataset\u001b[0m\u001b[1;33m.\u001b[0m\u001b[0mloc\u001b[0m\u001b[1;33m[\u001b[0m\u001b[0mcode\u001b[0m\u001b[1;33m]\u001b[0m\u001b[1;33m[\u001b[0m\u001b[1;34m\"File names\"\u001b[0m\u001b[1;33m]\u001b[0m\u001b[1;33m:\u001b[0m\u001b[1;33m\u001b[0m\u001b[1;33m\u001b[0m\u001b[0m\n",
      "\u001b[1;31mNameError\u001b[0m: name 'dataset' is not defined"
     ]
    }
   ],
   "source": [
    "codes = [\"R11\", \"R31\"]\n",
    "outputs = image_load_to_cluster_count(codes, 100, 100)"
   ]
  },
  {
   "cell_type": "markdown",
   "metadata": {
    "id": "ng7MkyFn0huc"
   },
   "source": [
    "By now we can see that ResNet is performing terribly in all our tests. We can also see that PCA and non-PCA are the same, so we can just use the same cluster/code combinations for them, and that GMM has consistently performed same as or much worse than KMeans.\n",
    "\n",
    "The two we will consider now are Kmeans VGG16 and VGG19"
   ]
  },
  {
   "cell_type": "code",
   "execution_count": 16,
   "metadata": {
    "id": "3Gzd-5v80huc"
   },
   "outputs": [],
   "source": [
    "# Manually adjust these lists so that the index of each label reflects which cluter it lies in\n",
    "vgg16_cluster_code = [\"R11\", \"R21\"]\n",
    "vgg19_cluster_code = [\"R11\", \"R21\"]"
   ]
  },
  {
   "cell_type": "code",
   "execution_count": 17,
   "metadata": {
    "id": "IUL310Eb0hud"
   },
   "outputs": [],
   "source": [
    "# Let's define a function for scores\n",
    "\n",
    "def scoring(vgg16_cluster_code, vgg19_cluster_code, outputs):\n",
    "    vgg16_pred_codes = [vgg16_cluster_code[x] for x in outputs[0]]\n",
    "    vgg16_pred_codes_pca = [vgg16_cluster_code[x] for x in outputs[1]]\n",
    "    vgg19_pred_codes = [vgg19_cluster_code[x] for x in outputs[2]]\n",
    "    vgg19_pred_codes_pca = [vgg19_cluster_code[x] for x in outputs[3]]\n",
    "\n",
    "    print(\"KMeans VGG16:\", print_scores(outputs[-1], vgg16_pred_codes))\n",
    "    print(\"KMeans VGG16 (PCA)\", print_scores(outputs[-1], vgg16_pred_codes_pca))\n",
    "\n",
    "    print(\"\\nKMeans VGG19: \", print_scores(outputs[-1], vgg19_pred_codes))\n",
    "    print(\"KMeans VGG19 (PCA): \", print_scores(outputs[-1], vgg19_pred_codes_pca))"
   ]
  },
  {
   "cell_type": "code",
   "execution_count": 18,
   "metadata": {
    "colab": {
     "base_uri": "https://localhost:8080/"
    },
    "executionInfo": {
     "elapsed": 266970,
     "status": "ok",
     "timestamp": 1608665547377,
     "user": {
      "displayName": "Giulio Berti",
      "photoUrl": "https://lh3.googleusercontent.com/a-/AOh14GgDg31lDj5yYmTfyvREh4EnwrHm1nzfdg7Dq6r_Bw=s64",
      "userId": "10415348582045446936"
     },
     "user_tz": -60
    },
    "id": "qLDpSqth0hud",
    "outputId": "8d59a3a6-d1d5-4b97-aff0-1256316d3f9b"
   },
   "outputs": [
    {
     "ename": "NameError",
     "evalue": "name 'outputs' is not defined",
     "output_type": "error",
     "traceback": [
      "\u001b[1;31m---------------------------------------------------------------------------\u001b[0m",
      "\u001b[1;31mNameError\u001b[0m                                 Traceback (most recent call last)",
      "\u001b[1;32m<ipython-input-18-17c15d1136cb>\u001b[0m in \u001b[0;36m<module>\u001b[1;34m\u001b[0m\n\u001b[1;32m----> 1\u001b[1;33m \u001b[0mscoring\u001b[0m\u001b[1;33m(\u001b[0m\u001b[0mvgg16_cluster_code\u001b[0m\u001b[1;33m,\u001b[0m \u001b[0mvgg19_cluster_code\u001b[0m\u001b[1;33m,\u001b[0m \u001b[0moutputs\u001b[0m\u001b[1;33m)\u001b[0m\u001b[1;33m\u001b[0m\u001b[1;33m\u001b[0m\u001b[0m\n\u001b[0m",
      "\u001b[1;31mNameError\u001b[0m: name 'outputs' is not defined"
     ]
    }
   ],
   "source": [
    "scoring(vgg16_cluster_code, vgg19_cluster_code, outputs)"
   ]
  },
  {
   "cell_type": "markdown",
   "metadata": {
    "id": "si74gdtT0hud"
   },
   "source": [
    "VGG16 wins again!\n",
    "\n",
    "Now let's try a cat and dog pair for our final test"
   ]
  },
  {
   "cell_type": "code",
   "execution_count": 19,
   "metadata": {
    "colab": {
     "base_uri": "https://localhost:8080/",
     "height": 1000
    },
    "executionInfo": {
     "elapsed": 290316,
     "status": "ok",
     "timestamp": 1608665570738,
     "user": {
      "displayName": "Giulio Berti",
      "photoUrl": "https://lh3.googleusercontent.com/a-/AOh14GgDg31lDj5yYmTfyvREh4EnwrHm1nzfdg7Dq6r_Bw=s64",
      "userId": "10415348582045446936"
     },
     "user_tz": -60
    },
    "id": "hDy8eV4M0hue",
    "outputId": "b6f893be-f5a9-4f4e-833c-c85684ae7f19"
   },
   "outputs": [
    {
     "ename": "NameError",
     "evalue": "name 'dataset' is not defined",
     "output_type": "error",
     "traceback": [
      "\u001b[1;31m---------------------------------------------------------------------------\u001b[0m",
      "\u001b[1;31mNameError\u001b[0m                                 Traceback (most recent call last)",
      "\u001b[1;32m<ipython-input-19-9112ac50d5c2>\u001b[0m in \u001b[0;36m<module>\u001b[1;34m\u001b[0m\n\u001b[0;32m      1\u001b[0m \u001b[0mcodes\u001b[0m \u001b[1;33m=\u001b[0m \u001b[1;33m[\u001b[0m\u001b[1;34m\"R11\"\u001b[0m\u001b[1;33m,\u001b[0m\u001b[1;34m\"R21\"\u001b[0m\u001b[1;33m]\u001b[0m\u001b[1;33m\u001b[0m\u001b[1;33m\u001b[0m\u001b[0m\n\u001b[1;32m----> 2\u001b[1;33m \u001b[0moutputs\u001b[0m \u001b[1;33m=\u001b[0m \u001b[0mimage_load_to_cluster_count\u001b[0m\u001b[1;33m(\u001b[0m\u001b[0mcodes\u001b[0m\u001b[1;33m,\u001b[0m \u001b[1;36m100\u001b[0m\u001b[1;33m,\u001b[0m \u001b[1;36m100\u001b[0m\u001b[1;33m)\u001b[0m\u001b[1;33m\u001b[0m\u001b[1;33m\u001b[0m\u001b[0m\n\u001b[0m",
      "\u001b[1;32m<ipython-input-14-ab0003cf6381>\u001b[0m in \u001b[0;36mimage_load_to_cluster_count\u001b[1;34m(codes, w, h)\u001b[0m\n\u001b[0;32m     13\u001b[0m \u001b[1;32mdef\u001b[0m \u001b[0mimage_load_to_cluster_count\u001b[0m\u001b[1;33m(\u001b[0m\u001b[0mcodes\u001b[0m\u001b[1;33m,\u001b[0m \u001b[0mw\u001b[0m\u001b[1;33m,\u001b[0m \u001b[0mh\u001b[0m\u001b[1;33m)\u001b[0m\u001b[1;33m:\u001b[0m\u001b[1;33m\u001b[0m\u001b[1;33m\u001b[0m\u001b[0m\n\u001b[0;32m     14\u001b[0m     \u001b[1;31m# Load images\u001b[0m\u001b[1;33m\u001b[0m\u001b[1;33m\u001b[0m\u001b[1;33m\u001b[0m\u001b[0m\n\u001b[1;32m---> 15\u001b[1;33m     \u001b[0mimages\u001b[0m\u001b[1;33m,\u001b[0m \u001b[0mlabels\u001b[0m \u001b[1;33m=\u001b[0m \u001b[0mload_images\u001b[0m\u001b[1;33m(\u001b[0m\u001b[0mcodes\u001b[0m\u001b[1;33m,\u001b[0m \u001b[0mw\u001b[0m\u001b[1;33m,\u001b[0m \u001b[0mh\u001b[0m\u001b[1;33m)\u001b[0m\u001b[1;33m\u001b[0m\u001b[1;33m\u001b[0m\u001b[0m\n\u001b[0m\u001b[0;32m     16\u001b[0m     \u001b[0mprint\u001b[0m\u001b[1;33m(\u001b[0m\u001b[0mlen\u001b[0m\u001b[1;33m(\u001b[0m\u001b[0mimages\u001b[0m\u001b[1;33m)\u001b[0m\u001b[1;33m,\u001b[0m \u001b[0mlen\u001b[0m\u001b[1;33m(\u001b[0m\u001b[0mlabels\u001b[0m\u001b[1;33m)\u001b[0m\u001b[1;33m)\u001b[0m\u001b[1;33m\u001b[0m\u001b[1;33m\u001b[0m\u001b[0m\n\u001b[0;32m     17\u001b[0m     \u001b[0mshow_random_images\u001b[0m\u001b[1;33m(\u001b[0m\u001b[0mimages\u001b[0m\u001b[1;33m,\u001b[0m \u001b[0mlabels\u001b[0m\u001b[1;33m)\u001b[0m\u001b[1;33m\u001b[0m\u001b[1;33m\u001b[0m\u001b[0m\n",
      "\u001b[1;32m<ipython-input-3-6d876d86219f>\u001b[0m in \u001b[0;36mload_images\u001b[1;34m(codes, clumpW, clumpH)\u001b[0m\n\u001b[0;32m     14\u001b[0m     \u001b[1;32mfor\u001b[0m \u001b[0mcode\u001b[0m \u001b[1;32min\u001b[0m \u001b[0mcodes\u001b[0m\u001b[1;33m:\u001b[0m\u001b[1;33m\u001b[0m\u001b[1;33m\u001b[0m\u001b[0m\n\u001b[0;32m     15\u001b[0m         \u001b[1;31m# get the folder name for this code\u001b[0m\u001b[1;33m\u001b[0m\u001b[1;33m\u001b[0m\u001b[1;33m\u001b[0m\u001b[0m\n\u001b[1;32m---> 16\u001b[1;33m         \u001b[0mfolder_name\u001b[0m \u001b[1;33m=\u001b[0m \u001b[0mdataset\u001b[0m\u001b[1;33m.\u001b[0m\u001b[0mloc\u001b[0m\u001b[1;33m[\u001b[0m\u001b[0mcode\u001b[0m\u001b[1;33m]\u001b[0m\u001b[1;33m[\u001b[0m\u001b[1;34m\"Folder name\"\u001b[0m\u001b[1;33m]\u001b[0m\u001b[1;33m\u001b[0m\u001b[1;33m\u001b[0m\u001b[0m\n\u001b[0m\u001b[0;32m     17\u001b[0m \u001b[1;33m\u001b[0m\u001b[0m\n\u001b[0;32m     18\u001b[0m         \u001b[1;32mfor\u001b[0m \u001b[0mfile\u001b[0m \u001b[1;32min\u001b[0m \u001b[0mdataset\u001b[0m\u001b[1;33m.\u001b[0m\u001b[0mloc\u001b[0m\u001b[1;33m[\u001b[0m\u001b[0mcode\u001b[0m\u001b[1;33m]\u001b[0m\u001b[1;33m[\u001b[0m\u001b[1;34m\"File names\"\u001b[0m\u001b[1;33m]\u001b[0m\u001b[1;33m:\u001b[0m\u001b[1;33m\u001b[0m\u001b[1;33m\u001b[0m\u001b[0m\n",
      "\u001b[1;31mNameError\u001b[0m: name 'dataset' is not defined"
     ]
    }
   ],
   "source": [
    "codes = [\"R11\",\"R21\"]\n",
    "outputs = image_load_to_cluster_count(codes, 100, 100)"
   ]
  },
  {
   "cell_type": "code",
   "execution_count": 173,
   "metadata": {
    "colab": {
     "base_uri": "https://localhost:8080/"
    },
    "executionInfo": {
     "elapsed": 290299,
     "status": "ok",
     "timestamp": 1608665570740,
     "user": {
      "displayName": "Giulio Berti",
      "photoUrl": "https://lh3.googleusercontent.com/a-/AOh14GgDg31lDj5yYmTfyvREh4EnwrHm1nzfdg7Dq6r_Bw=s64",
      "userId": "10415348582045446936"
     },
     "user_tz": -60
    },
    "id": "UP9mj71S0hue",
    "outputId": "88b9b2fe-de76-4550-f937-e0c76ee37301"
   },
   "outputs": [
    {
     "name": "stdout",
     "output_type": "stream",
     "text": [
      "KMeans VGG16: \n",
      "\tF1 Score: 0.28058184   |   Accuracy: 0.28058184\n",
      "KMeans VGG16 (PCA) \n",
      "\tF1 Score: 0.28058184   |   Accuracy: 0.28058184\n",
      "\n",
      "KMeans VGG19:  \n",
      "\tF1 Score: 0.62030754   |   Accuracy: 0.62030754\n",
      "KMeans VGG19 (PCA):  \n",
      "\tF1 Score: 0.62030754   |   Accuracy: 0.62030754\n"
     ]
    }
   ],
   "source": [
    "vgg16_cluster_code = [\"R11\", \"R21\"]\n",
    "vgg19_cluster_code = [\"R11\", \"R21\"]\n",
    "scoring(vgg16_cluster_code, vgg19_cluster_code, outputs)"
   ]
  },
  {
   "cell_type": "markdown",
   "metadata": {
    "id": "zESUZDsR0hue"
   },
   "source": [
    " ## It is possible to cluster images of different pet breeds "
   ]
  },
  {
   "cell_type": "code",
   "execution_count": null,
   "metadata": {},
   "outputs": [],
   "source": []
  }
 ],
 "metadata": {
  "accelerator": "GPU",
  "colab": {
   "collapsed_sections": [
    "qQnAgJRg0hua"
   ],
   "name": "capstone.ipynb",
   "provenance": [],
   "toc_visible": true
  },
  "kernelspec": {
   "display_name": "Python (tf-gpu)",
   "language": "python",
   "name": "tf-gpu"
  },
  "language_info": {
   "codemirror_mode": {
    "name": "ipython",
    "version": 3
   },
   "file_extension": ".py",
   "mimetype": "text/x-python",
   "name": "python",
   "nbconvert_exporter": "python",
   "pygments_lexer": "ipython3",
   "version": "3.8.5"
  }
 },
 "nbformat": 4,
 "nbformat_minor": 4
}
